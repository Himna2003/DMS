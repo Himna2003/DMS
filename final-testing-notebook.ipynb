{
 "cells": [
  {
   "cell_type": "code",
   "execution_count": 1,
   "id": "53b67257",
   "metadata": {
    "_cell_guid": "b1076dfc-b9ad-4769-8c92-a6c4dae69d19",
    "_uuid": "8f2839f25d086af736a60e9eeb907d3b93b6e0e5",
    "execution": {
     "iopub.execute_input": "2025-06-21T13:32:46.323296Z",
     "iopub.status.busy": "2025-06-21T13:32:46.322984Z",
     "iopub.status.idle": "2025-06-21T13:32:48.766639Z",
     "shell.execute_reply": "2025-06-21T13:32:48.765633Z"
    },
    "papermill": {
     "duration": 2.454239,
     "end_time": "2025-06-21T13:32:48.769048",
     "exception": false,
     "start_time": "2025-06-21T13:32:46.314809",
     "status": "completed"
    },
    "tags": []
   },
   "outputs": [
    {
     "name": "stdout",
     "output_type": "stream",
     "text": [
      "/kaggle/input/test-set/testing dataset/normal behavior/NORMAL (96).mp4\n",
      "/kaggle/input/test-set/testing dataset/normal behavior/NORMAL (5).mp4\n",
      "/kaggle/input/test-set/testing dataset/normal behavior/NORMAL (81).mp4\n",
      "/kaggle/input/test-set/testing dataset/normal behavior/NORMAL (30).mp4\n",
      "/kaggle/input/test-set/testing dataset/normal behavior/NORMAL (63).mp4\n",
      "/kaggle/input/test-set/testing dataset/normal behavior/NORMAL (51).mp4\n",
      "/kaggle/input/test-set/testing dataset/normal behavior/NORMAL (64).mp4\n",
      "/kaggle/input/test-set/testing dataset/normal behavior/NORMAL (33).mp4\n",
      "/kaggle/input/test-set/testing dataset/normal behavior/NORMAL (89).mp4\n",
      "/kaggle/input/test-set/testing dataset/normal behavior/NORMAL (45).mp4\n",
      "/kaggle/input/test-set/testing dataset/normal behavior/NORMAL (98).mp4\n",
      "/kaggle/input/test-set/testing dataset/normal behavior/NORMAL (70).mp4\n",
      "/kaggle/input/test-set/testing dataset/normal behavior/NORMAL (27).mp4\n",
      "/kaggle/input/test-set/testing dataset/normal behavior/NORMAL (35).mp4\n",
      "/kaggle/input/test-set/testing dataset/normal behavior/NORMAL (39).mp4\n",
      "/kaggle/input/test-set/testing dataset/normal behavior/NORMAL (100).mp4\n",
      "/kaggle/input/test-set/testing dataset/normal behavior/NORMAL (90).mp4\n",
      "/kaggle/input/test-set/testing dataset/normal behavior/NORMAL (65).mp4\n",
      "/kaggle/input/test-set/testing dataset/normal behavior/NORMAL (117).mp4\n",
      "/kaggle/input/test-set/testing dataset/normal behavior/NORMAL (18).mp4\n",
      "/kaggle/input/test-set/testing dataset/normal behavior/NORMAL (97).mp4\n",
      "/kaggle/input/test-set/testing dataset/normal behavior/NORMAL (50).mp4\n",
      "/kaggle/input/test-set/testing dataset/normal behavior/NORMAL (54).mp4\n",
      "/kaggle/input/test-set/testing dataset/normal behavior/NORMAL (13).mp4\n",
      "/kaggle/input/test-set/testing dataset/normal behavior/NORMAL (92).mp4\n",
      "/kaggle/input/test-set/testing dataset/normal behavior/NORMAL (71).mp4\n",
      "/kaggle/input/test-set/testing dataset/normal behavior/NORMAL (1).mp4\n",
      "/kaggle/input/test-set/testing dataset/normal behavior/NORMAL (108).mp4\n",
      "/kaggle/input/test-set/testing dataset/normal behavior/NORMAL (42).mp4\n",
      "/kaggle/input/test-set/testing dataset/normal behavior/NORMAL (82).mp4\n",
      "/kaggle/input/test-set/testing dataset/normal behavior/NORMAL (111).mp4\n",
      "/kaggle/input/test-set/testing dataset/normal behavior/NORMAL (85).mp4\n",
      "/kaggle/input/test-set/testing dataset/normal behavior/NORMAL (107).mp4\n",
      "/kaggle/input/test-set/testing dataset/normal behavior/NORMAL (14).mp4\n",
      "/kaggle/input/test-set/testing dataset/normal behavior/NORMAL (74).mp4\n",
      "/kaggle/input/test-set/testing dataset/normal behavior/NORMAL (80).mp4\n",
      "/kaggle/input/test-set/testing dataset/normal behavior/NORMAL (76).mp4\n",
      "/kaggle/input/test-set/testing dataset/normal behavior/NORMAL (31).mp4\n",
      "/kaggle/input/test-set/testing dataset/normal behavior/NORMAL (48).mp4\n",
      "/kaggle/input/test-set/testing dataset/normal behavior/NORMAL (38).mp4\n",
      "/kaggle/input/test-set/testing dataset/normal behavior/NORMAL (28).mp4\n",
      "/kaggle/input/test-set/testing dataset/normal behavior/NORMAL (6).mp4\n",
      "/kaggle/input/test-set/testing dataset/normal behavior/NORMAL (25).mp4\n",
      "/kaggle/input/test-set/testing dataset/normal behavior/NORMAL (75).mp4\n",
      "/kaggle/input/test-set/testing dataset/normal behavior/NORMAL (94).mp4\n",
      "/kaggle/input/test-set/testing dataset/normal behavior/NORMAL (66).mp4\n",
      "/kaggle/input/test-set/testing dataset/normal behavior/NORMAL (84).mp4\n",
      "/kaggle/input/test-set/testing dataset/normal behavior/NORMAL (112).mp4\n",
      "/kaggle/input/test-set/testing dataset/normal behavior/NORMAL (57).mp4\n",
      "/kaggle/input/test-set/testing dataset/normal behavior/NORMAL (46).mp4\n",
      "/kaggle/input/test-set/testing dataset/normal behavior/NORMAL (95).mp4\n",
      "/kaggle/input/test-set/testing dataset/normal behavior/NORMAL (22).mp4\n",
      "/kaggle/input/test-set/testing dataset/normal behavior/NORMAL (73).mp4\n",
      "/kaggle/input/test-set/testing dataset/normal behavior/NORMAL (15).mp4\n",
      "/kaggle/input/test-set/testing dataset/normal behavior/NORMAL (106).mp4\n",
      "/kaggle/input/test-set/testing dataset/normal behavior/NORMAL.mp4\n",
      "/kaggle/input/test-set/testing dataset/normal behavior/NORMAL (17).mp4\n",
      "/kaggle/input/test-set/testing dataset/normal behavior/NORMAL (21).mp4\n",
      "/kaggle/input/test-set/testing dataset/normal behavior/NORMAL (53).mp4\n",
      "/kaggle/input/test-set/testing dataset/normal behavior/NORMAL (77).mp4\n",
      "/kaggle/input/test-set/testing dataset/normal behavior/NORMAL (44).mp4\n",
      "/kaggle/input/test-set/testing dataset/normal behavior/NORMAL (87).mp4\n",
      "/kaggle/input/test-set/testing dataset/normal behavior/NORMAL (8).mp4\n",
      "/kaggle/input/test-set/testing dataset/normal behavior/NORMAL (12).mp4\n",
      "/kaggle/input/test-set/testing dataset/normal behavior/NORMAL (55).mp4\n",
      "/kaggle/input/test-set/testing dataset/normal behavior/NORMAL (2).mp4\n",
      "/kaggle/input/test-set/testing dataset/normal behavior/NORMAL (105).mp4\n",
      "/kaggle/input/test-set/testing dataset/normal behavior/NORMAL (37).mp4\n",
      "/kaggle/input/test-set/testing dataset/normal behavior/NORMAL (29).mp4\n",
      "/kaggle/input/test-set/testing dataset/normal behavior/NORMAL (60).mp4\n",
      "/kaggle/input/test-set/testing dataset/normal behavior/NORMAL (116).mp4\n",
      "/kaggle/input/test-set/testing dataset/normal behavior/NORMAL (3).mp4\n",
      "/kaggle/input/test-set/testing dataset/normal behavior/NORMAL (61).mp4\n",
      "/kaggle/input/test-set/testing dataset/normal behavior/NORMAL (26).mp4\n",
      "/kaggle/input/test-set/testing dataset/normal behavior/NORMAL (119).mp4\n",
      "/kaggle/input/test-set/testing dataset/normal behavior/NORMAL (110).mp4\n",
      "/kaggle/input/test-set/testing dataset/normal behavior/NORMAL (16).mp4\n",
      "/kaggle/input/test-set/testing dataset/normal behavior/NORMAL (113).mp4\n",
      "/kaggle/input/test-set/testing dataset/normal behavior/NORMAL (109).mp4\n",
      "/kaggle/input/test-set/testing dataset/normal behavior/NORMAL (49).mp4\n",
      "/kaggle/input/test-set/testing dataset/normal behavior/NORMAL (19).mp4\n",
      "/kaggle/input/test-set/testing dataset/normal behavior/NORMAL (10).mp4\n",
      "/kaggle/input/test-set/testing dataset/normal behavior/NORMAL (103).mp4\n",
      "/kaggle/input/test-set/testing dataset/normal behavior/NORMAL (40).mp4\n",
      "/kaggle/input/test-set/testing dataset/normal behavior/NORMAL (99).mp4\n",
      "/kaggle/input/test-set/testing dataset/normal behavior/NORMAL (91).mp4\n",
      "/kaggle/input/test-set/testing dataset/normal behavior/NORMAL (102).mp4\n",
      "/kaggle/input/test-set/testing dataset/normal behavior/NORMAL (56).mp4\n",
      "/kaggle/input/test-set/testing dataset/normal behavior/NORMAL (69).mp4\n",
      "/kaggle/input/test-set/testing dataset/normal behavior/NORMAL (24).mp4\n",
      "/kaggle/input/test-set/testing dataset/normal behavior/NORMAL (104).mp4\n",
      "/kaggle/input/test-set/testing dataset/normal behavior/NORMAL (115).mp4\n",
      "/kaggle/input/test-set/testing dataset/normal behavior/NORMAL (36).mp4\n",
      "/kaggle/input/test-set/testing dataset/normal behavior/NORMAL (114).mp4\n",
      "/kaggle/input/test-set/testing dataset/normal behavior/NORMAL (67).mp4\n",
      "/kaggle/input/test-set/testing dataset/normal behavior/NORMAL (7).mp4\n",
      "/kaggle/input/test-set/testing dataset/normal behavior/NORMAL (4).mp4\n",
      "/kaggle/input/test-set/testing dataset/normal behavior/NORMAL (59).mp4\n",
      "/kaggle/input/test-set/testing dataset/normal behavior/NORMAL (93).mp4\n",
      "/kaggle/input/test-set/testing dataset/normal behavior/NORMAL (72).mp4\n",
      "/kaggle/input/test-set/testing dataset/normal behavior/NORMAL (78).mp4\n",
      "/kaggle/input/test-set/testing dataset/normal behavior/NORMAL (88).mp4\n",
      "/kaggle/input/test-set/testing dataset/normal behavior/NORMAL (79).mp4\n",
      "/kaggle/input/test-set/testing dataset/normal behavior/NORMAL (23).mp4\n",
      "/kaggle/input/test-set/testing dataset/normal behavior/NORMAL (43).mp4\n",
      "/kaggle/input/test-set/testing dataset/normal behavior/NORMAL (41).mp4\n",
      "/kaggle/input/test-set/testing dataset/normal behavior/NORMAL (83).mp4\n",
      "/kaggle/input/test-set/testing dataset/normal behavior/NORMAL (101).mp4\n",
      "/kaggle/input/test-set/testing dataset/normal behavior/NORMAL (34).mp4\n",
      "/kaggle/input/test-set/testing dataset/normal behavior/NORMAL (62).mp4\n",
      "/kaggle/input/test-set/testing dataset/normal behavior/NORMAL (20).mp4\n",
      "/kaggle/input/test-set/testing dataset/normal behavior/NORMAL (32).mp4\n",
      "/kaggle/input/test-set/testing dataset/normal behavior/NORMAL (118).mp4\n",
      "/kaggle/input/test-set/testing dataset/normal behavior/NORMAL (9).mp4\n",
      "/kaggle/input/test-set/testing dataset/normal behavior/NORMAL (68).mp4\n",
      "/kaggle/input/test-set/testing dataset/normal behavior/NORMAL (11).mp4\n",
      "/kaggle/input/test-set/testing dataset/normal behavior/NORMAL (52).mp4\n",
      "/kaggle/input/test-set/testing dataset/normal behavior/NORMAL (86).mp4\n",
      "/kaggle/input/test-set/testing dataset/normal behavior/NORMAL (47).mp4\n",
      "/kaggle/input/test-set/testing dataset/normal behavior/NORMAL (58).mp4\n",
      "/kaggle/input/test-set/testing dataset/distracted behavior/Distracted (6).mp4\n",
      "/kaggle/input/test-set/testing dataset/distracted behavior/Distracted (70).mp4\n",
      "/kaggle/input/test-set/testing dataset/distracted behavior/392left.mp4\n",
      "/kaggle/input/test-set/testing dataset/distracted behavior/Distracted (71).mp4\n",
      "/kaggle/input/test-set/testing dataset/distracted behavior/Distracted (19).mp4\n",
      "/kaggle/input/test-set/testing dataset/distracted behavior/Distracted (25).mp4\n",
      "/kaggle/input/test-set/testing dataset/distracted behavior/Distracted (65).mp4\n",
      "/kaggle/input/test-set/testing dataset/distracted behavior/Distracted (60).mp4\n",
      "/kaggle/input/test-set/testing dataset/distracted behavior/Distracted (3).mp4\n",
      "/kaggle/input/test-set/testing dataset/distracted behavior/Distracted (4).mp4\n",
      "/kaggle/input/test-set/testing dataset/distracted behavior/Distracted (31).mp4\n",
      "/kaggle/input/test-set/testing dataset/distracted behavior/Distracted (28).mp4\n",
      "/kaggle/input/test-set/testing dataset/distracted behavior/Distracted (18).mp4\n",
      "/kaggle/input/test-set/testing dataset/distracted behavior/Distracted (55).mp4\n",
      "/kaggle/input/test-set/testing dataset/distracted behavior/Distracted (66).mp4\n",
      "/kaggle/input/test-set/testing dataset/distracted behavior/Distracted (52).mp4\n",
      "/kaggle/input/test-set/testing dataset/distracted behavior/Distracted (17).mp4\n",
      "/kaggle/input/test-set/testing dataset/distracted behavior/Distracted (13).mp4\n",
      "/kaggle/input/test-set/testing dataset/distracted behavior/Distracted (1).mp4\n",
      "/kaggle/input/test-set/testing dataset/distracted behavior/Distracted (77).mp4\n",
      "/kaggle/input/test-set/testing dataset/distracted behavior/Distracted (62).mp4\n",
      "/kaggle/input/test-set/testing dataset/distracted behavior/Distracted (74).mp4\n",
      "/kaggle/input/test-set/testing dataset/distracted behavior/Distracted (5).mp4\n",
      "/kaggle/input/test-set/testing dataset/distracted behavior/Distracted (50).mp4\n",
      "/kaggle/input/test-set/testing dataset/distracted behavior/Distracted (59).mp4\n",
      "/kaggle/input/test-set/testing dataset/distracted behavior/Distracted (86).mp4\n",
      "/kaggle/input/test-set/testing dataset/distracted behavior/Distracted (10).mp4\n",
      "/kaggle/input/test-set/testing dataset/distracted behavior/Distracted (30).mp4\n",
      "/kaggle/input/test-set/testing dataset/distracted behavior/Distracted (56).mp4\n",
      "/kaggle/input/test-set/testing dataset/distracted behavior/Distracted (79).mp4\n",
      "/kaggle/input/test-set/testing dataset/distracted behavior/Distracted (46).mp4\n",
      "/kaggle/input/test-set/testing dataset/distracted behavior/Distracted (32).mp4\n",
      "/kaggle/input/test-set/testing dataset/distracted behavior/Distracted (21).mp4\n",
      "/kaggle/input/test-set/testing dataset/distracted behavior/Distracted (49).mp4\n",
      "/kaggle/input/test-set/testing dataset/distracted behavior/Distracted (73).mp4\n",
      "/kaggle/input/test-set/testing dataset/distracted behavior/Distracted (20).mp4\n",
      "/kaggle/input/test-set/testing dataset/distracted behavior/Distracted (12).mp4\n",
      "/kaggle/input/test-set/testing dataset/distracted behavior/Distracted (87).mp4\n",
      "/kaggle/input/test-set/testing dataset/distracted behavior/Distracted (51).mp4\n",
      "/kaggle/input/test-set/testing dataset/distracted behavior/Distracted (45).mp4\n",
      "/kaggle/input/test-set/testing dataset/distracted behavior/Distracted (24).mp4\n",
      "/kaggle/input/test-set/testing dataset/distracted behavior/Distracted (14).mp4\n",
      "/kaggle/input/test-set/testing dataset/distracted behavior/Distracted (83).mp4\n",
      "/kaggle/input/test-set/testing dataset/distracted behavior/Distracted (35).mp4\n",
      "/kaggle/input/test-set/testing dataset/distracted behavior/Distracted (63).mp4\n",
      "/kaggle/input/test-set/testing dataset/distracted behavior/Distracted (23).mp4\n",
      "/kaggle/input/test-set/testing dataset/distracted behavior/Distracted (36).mp4\n",
      "/kaggle/input/test-set/testing dataset/distracted behavior/Distracted (64).mp4\n",
      "/kaggle/input/test-set/testing dataset/distracted behavior/Distracted (68).mp4\n",
      "/kaggle/input/test-set/testing dataset/distracted behavior/Distracted (82).mp4\n",
      "/kaggle/input/test-set/testing dataset/distracted behavior/Distracted (57).mp4\n",
      "/kaggle/input/test-set/testing dataset/distracted behavior/Distracted (37).mp4\n",
      "/kaggle/input/test-set/testing dataset/distracted behavior/Distracted (67).mp4\n",
      "/kaggle/input/test-set/testing dataset/distracted behavior/Distracted (88).mp4\n",
      "/kaggle/input/test-set/testing dataset/distracted behavior/Distracted (42).mp4\n",
      "/kaggle/input/test-set/testing dataset/distracted behavior/Distracted (9).mp4\n",
      "/kaggle/input/test-set/testing dataset/distracted behavior/Distracted (16).mp4\n",
      "/kaggle/input/test-set/testing dataset/distracted behavior/Distracted.mp4\n",
      "/kaggle/input/test-set/testing dataset/distracted behavior/Distracted (47).mp4\n",
      "/kaggle/input/test-set/testing dataset/distracted behavior/Distracted (26).mp4\n",
      "/kaggle/input/test-set/testing dataset/distracted behavior/Distracted (78).mp4\n",
      "/kaggle/input/test-set/testing dataset/distracted behavior/Distracted (76).mp4\n",
      "/kaggle/input/test-set/testing dataset/distracted behavior/Distracted (27).mp4\n",
      "/kaggle/input/test-set/testing dataset/distracted behavior/Distracted (39).mp4\n",
      "/kaggle/input/test-set/testing dataset/distracted behavior/Distracted (2).mp4\n",
      "/kaggle/input/test-set/testing dataset/distracted behavior/Distracted (69).mp4\n",
      "/kaggle/input/test-set/testing dataset/distracted behavior/Distracted (29).mp4\n",
      "/kaggle/input/test-set/testing dataset/distracted behavior/Distracted (72).mp4\n",
      "/kaggle/input/test-set/testing dataset/distracted behavior/Distracted (40).mp4\n",
      "/kaggle/input/test-set/testing dataset/distracted behavior/Distracted (58).mp4\n",
      "/kaggle/input/test-set/testing dataset/distracted behavior/Distracted (44).mp4\n",
      "/kaggle/input/test-set/testing dataset/distracted behavior/Distracted (81).mp4\n",
      "/kaggle/input/test-set/testing dataset/distracted behavior/Distracted (43).mp4\n",
      "/kaggle/input/test-set/testing dataset/distracted behavior/Distracted (85).mp4\n",
      "/kaggle/input/test-set/testing dataset/distracted behavior/Distracted (8).mp4\n",
      "/kaggle/input/test-set/testing dataset/distracted behavior/Distracted (61).mp4\n",
      "/kaggle/input/test-set/testing dataset/distracted behavior/Distracted (34).mp4\n",
      "/kaggle/input/test-set/testing dataset/distracted behavior/Distracted (54).mp4\n",
      "/kaggle/input/test-set/testing dataset/distracted behavior/Distracted (53).mp4\n",
      "/kaggle/input/test-set/testing dataset/distracted behavior/Distracted (38).mp4\n",
      "/kaggle/input/test-set/testing dataset/distracted behavior/Distracted (15).mp4\n",
      "/kaggle/input/test-set/testing dataset/distracted behavior/Distracted (22).mp4\n",
      "/kaggle/input/test-set/testing dataset/distracted behavior/Distracted (41).mp4\n",
      "/kaggle/input/test-set/testing dataset/distracted behavior/Distracted (75).mp4\n",
      "/kaggle/input/test-set/testing dataset/distracted behavior/Distracted (7).mp4\n",
      "/kaggle/input/test-set/testing dataset/distracted behavior/Distracted (84).mp4\n",
      "/kaggle/input/test-set/testing dataset/distracted behavior/Distracted (11).mp4\n",
      "/kaggle/input/test-set/testing dataset/distracted behavior/Distracted (48).mp4\n",
      "/kaggle/input/test-set/testing dataset/distracted behavior/Distracted (33).mp4\n",
      "/kaggle/input/test-set/testing dataset/distracted behavior/Distracted (80).mp4\n"
     ]
    }
   ],
   "source": [
    "# This Python 3 environment comes with many helpful analytics libraries installed\n",
    "# It is defined by the kaggle/python Docker image: https://github.com/kaggle/docker-python\n",
    "# For example, here's several helpful packages to load\n",
    "\n",
    "import numpy as np # linear algebra\n",
    "import pandas as pd # data processing, CSV file I/O (e.g. pd.read_csv)\n",
    "\n",
    "# Input data files are available in the read-only \"../input/\" directory\n",
    "# For example, running this (by clicking run or pressing Shift+Enter) will list all files under the input directory\n",
    "\n",
    "import os\n",
    "for dirname, _, filenames in os.walk('/kaggle/input'):\n",
    "    for filename in filenames:\n",
    "        print(os.path.join(dirname, filename))\n",
    "\n",
    "# You can write up to 20GB to the current directory (/kaggle/working/) that gets preserved as output when you create a version using \"Save & Run All\" \n",
    "# You can also write temporary files to /kaggle/temp/, but they won't be saved outside of the current session"
   ]
  },
  {
   "cell_type": "code",
   "execution_count": 2,
   "id": "a9acb500",
   "metadata": {
    "execution": {
     "iopub.execute_input": "2025-06-21T13:32:48.782617Z",
     "iopub.status.busy": "2025-06-21T13:32:48.781779Z",
     "iopub.status.idle": "2025-06-21T13:33:08.568149Z",
     "shell.execute_reply": "2025-06-21T13:33:08.567204Z"
    },
    "papermill": {
     "duration": 19.794929,
     "end_time": "2025-06-21T13:33:08.570058",
     "exception": false,
     "start_time": "2025-06-21T13:32:48.775129",
     "status": "completed"
    },
    "tags": []
   },
   "outputs": [
    {
     "name": "stderr",
     "output_type": "stream",
     "text": [
      "2025-06-21 13:32:51.275914: E external/local_xla/xla/stream_executor/cuda/cuda_fft.cc:477] Unable to register cuFFT factory: Attempting to register factory for plugin cuFFT when one has already been registered\n",
      "WARNING: All log messages before absl::InitializeLog() is called are written to STDERR\n",
      "E0000 00:00:1750512771.557676      13 cuda_dnn.cc:8310] Unable to register cuDNN factory: Attempting to register factory for plugin cuDNN when one has already been registered\n",
      "E0000 00:00:1750512771.642654      13 cuda_blas.cc:1418] Unable to register cuBLAS factory: Attempting to register factory for plugin cuBLAS when one has already been registered\n"
     ]
    }
   ],
   "source": [
    "import cv2\n",
    "import os\n",
    "import numpy as np\n",
    "import tensorflow as tf\n",
    "from tensorflow.keras.models import Sequential\n",
    "from tensorflow.keras.layers import LSTM, Dense, TimeDistributed, Dropout, GlobalAveragePooling2D\n",
    "from tensorflow.keras.optimizers import Adam\n",
    "from sklearn.model_selection import train_test_split\n",
    "from sklearn.preprocessing import LabelEncoder\n",
    "from tensorflow.keras.utils import to_categorical"
   ]
  },
  {
   "cell_type": "code",
   "execution_count": 3,
   "id": "c6594820",
   "metadata": {
    "execution": {
     "iopub.execute_input": "2025-06-21T13:33:08.586307Z",
     "iopub.status.busy": "2025-06-21T13:33:08.585612Z",
     "iopub.status.idle": "2025-06-21T13:33:11.478516Z",
     "shell.execute_reply": "2025-06-21T13:33:11.477387Z"
    },
    "papermill": {
     "duration": 2.903902,
     "end_time": "2025-06-21T13:33:11.480272",
     "exception": false,
     "start_time": "2025-06-21T13:33:08.576370",
     "status": "completed"
    },
    "tags": []
   },
   "outputs": [
    {
     "name": "stderr",
     "output_type": "stream",
     "text": [
      "2025-06-21 13:33:08.605314: E external/local_xla/xla/stream_executor/cuda/cuda_driver.cc:152] failed call to cuInit: INTERNAL: CUDA error: Failed call to cuInit: UNKNOWN ERROR (303)\n"
     ]
    },
    {
     "name": "stdout",
     "output_type": "stream",
     "text": [
      "Downloading data from https://storage.googleapis.com/tensorflow/keras-applications/inception_v3/inception_v3_weights_tf_dim_ordering_tf_kernels_notop.h5\n",
      "\u001b[1m87910968/87910968\u001b[0m \u001b[32m━━━━━━━━━━━━━━━━━━━━\u001b[0m\u001b[37m\u001b[0m \u001b[1m0s\u001b[0m 0us/step\n"
     ]
    }
   ],
   "source": [
    "from tensorflow.keras.models import Model, Sequential\n",
    "from tensorflow.keras.applications import InceptionV3\n",
    "from tensorflow.keras.models import Model\n",
    "from tensorflow.keras.applications.inception_v3 import InceptionV3, preprocess_input\n",
    "\n",
    "base_model = InceptionV3(weights='imagenet', include_top=False, input_shape=(299, 299, 3))\n",
    "for layer in base_model.layers:\n",
    "    layer.trainable = False\n",
    "\n",
    "\n",
    "x = GlobalAveragePooling2D()(base_model.output)\n",
    "x = Dropout(0.5)(x)\n",
    "x = Dense(256, activation='relu')(x)  \n",
    "inception_model = Model(inputs=base_model.input, outputs=x)"
   ]
  },
  {
   "cell_type": "code",
   "execution_count": 4,
   "id": "8fffea8f",
   "metadata": {
    "execution": {
     "iopub.execute_input": "2025-06-21T13:33:11.495304Z",
     "iopub.status.busy": "2025-06-21T13:33:11.494994Z",
     "iopub.status.idle": "2025-06-21T13:33:11.499554Z",
     "shell.execute_reply": "2025-06-21T13:33:11.498652Z"
    },
    "papermill": {
     "duration": 0.013535,
     "end_time": "2025-06-21T13:33:11.500981",
     "exception": false,
     "start_time": "2025-06-21T13:33:11.487446",
     "status": "completed"
    },
    "tags": []
   },
   "outputs": [],
   "source": [
    "import os\n",
    "os.environ[\"CUDA_VISIBLE_DEVICES\"] = \"-1\"\n"
   ]
  },
  {
   "cell_type": "code",
   "execution_count": 5,
   "id": "6c05593d",
   "metadata": {
    "execution": {
     "iopub.execute_input": "2025-06-21T13:33:11.515609Z",
     "iopub.status.busy": "2025-06-21T13:33:11.515323Z",
     "iopub.status.idle": "2025-06-21T13:33:29.452110Z",
     "shell.execute_reply": "2025-06-21T13:33:29.451017Z"
    },
    "papermill": {
     "duration": 17.946286,
     "end_time": "2025-06-21T13:33:29.453676",
     "exception": false,
     "start_time": "2025-06-21T13:33:11.507390",
     "status": "completed"
    },
    "tags": []
   },
   "outputs": [
    {
     "name": "stdout",
     "output_type": "stream",
     "text": [
      "Extracted Features Shape: (83, 256)\n"
     ]
    }
   ],
   "source": [
    "import cv2\n",
    "import numpy as np\n",
    "import os\n",
    "\n",
    "from tensorflow.keras.applications.inception_v3 import preprocess_input\n",
    "def extract_video_features(video_path, feature_extractor, frame_step=5, target_size=(299, 299)):\n",
    "    if not os.path.exists(video_path):\n",
    "        print(f\"Error: Video file not found at {video_path}\")\n",
    "        return None\n",
    "\n",
    "    cap = cv2.VideoCapture(video_path)\n",
    "    frames = []\n",
    "    frame_id = 0\n",
    "\n",
    "    while cap.isOpened():\n",
    "        ret, frame = cap.read()\n",
    "        if not ret:\n",
    "            break\n",
    "        if frame_id % frame_step == 0:\n",
    "            frame = cv2.resize(frame, target_size)\n",
    "            frame = cv2.cvtColor(frame, cv2.COLOR_BGR2RGB)\n",
    "            frame = preprocess_input(frame.astype(np.float32))\n",
    "            frames.append(frame)\n",
    "        frame_id += 1\n",
    "\n",
    "    cap.release()\n",
    "\n",
    "    if not frames:\n",
    "        print(\"Warning: No frames extracted from video.\")\n",
    "        return None\n",
    "        \n",
    "    frames = np.array(frames, dtype=np.float32)\n",
    "    features = feature_extractor.predict(frames, verbose=0)\n",
    "    return features  # (num_frames, feature_dim)\n",
    "# Path to video file\n",
    "video_path = \"/kaggle/input/test-set/testing dataset/distracted behavior/Distracted (11).mp4\"\n",
    "\n",
    "video_features = extract_video_features(video_path, inception_model)\n",
    "\n",
    "if video_features is not None:\n",
    "    print(\"Extracted Features Shape:\", video_features.shape)  # Should be (num_frames, feature_dim)\n",
    "else:\n",
    "    print(\"Feature extraction failed.\")"
   ]
  },
  {
   "cell_type": "code",
   "execution_count": 6,
   "id": "a15ca44b",
   "metadata": {
    "execution": {
     "iopub.execute_input": "2025-06-21T13:33:29.468228Z",
     "iopub.status.busy": "2025-06-21T13:33:29.467812Z",
     "iopub.status.idle": "2025-06-21T13:33:29.481829Z",
     "shell.execute_reply": "2025-06-21T13:33:29.480608Z"
    },
    "papermill": {
     "duration": 0.023177,
     "end_time": "2025-06-21T13:33:29.483595",
     "exception": false,
     "start_time": "2025-06-21T13:33:29.460418",
     "status": "completed"
    },
    "tags": []
   },
   "outputs": [
    {
     "name": "stdout",
     "output_type": "stream",
     "text": [
      "Label Mapping: {0: 0, 1: 1}\n"
     ]
    }
   ],
   "source": [
    "import os\n",
    "from sklearn.preprocessing import LabelEncoder\n",
    "import numpy as np\n",
    "\n",
    "dataset_path = \"/kaggle/input/test-set\"\n",
    "video_dir = os.path.join(dataset_path, \"testing dataset\")\n",
    "label_map = {\"normal behavior\": 0, \"distracted behavior\": 1}\n",
    "\n",
    "video_paths = []\n",
    "labels = []\n",
    "\n",
    "for class_name, label in label_map.items():\n",
    "    class_folder = os.path.join(video_dir, class_name)\n",
    "    for filename in os.listdir(class_folder):\n",
    "        if filename.endswith((\".mp4\", \".avi\", \".mov\")):\n",
    "            video_paths.append(os.path.join(class_folder, filename))\n",
    "            labels.append(label)\n",
    "\n",
    "# Encode labels\n",
    "label_encoder = LabelEncoder()\n",
    "labels_encoded = label_encoder.fit_transform(labels)\n",
    "print(\"Label Mapping:\", dict(zip(label_encoder.classes_, label_encoder.transform(label_encoder.classes_))))"
   ]
  },
  {
   "cell_type": "code",
   "execution_count": 7,
   "id": "08511dbb",
   "metadata": {
    "execution": {
     "iopub.execute_input": "2025-06-21T13:33:29.498249Z",
     "iopub.status.busy": "2025-06-21T13:33:29.497825Z",
     "iopub.status.idle": "2025-06-21T13:33:29.506406Z",
     "shell.execute_reply": "2025-06-21T13:33:29.505283Z"
    },
    "papermill": {
     "duration": 0.017879,
     "end_time": "2025-06-21T13:33:29.508068",
     "exception": false,
     "start_time": "2025-06-21T13:33:29.490189",
     "status": "completed"
    },
    "tags": []
   },
   "outputs": [],
   "source": [
    "from sklearn.model_selection import train_test_split\n",
    "\n",
    "train_paths, val_paths, train_labels, val_labels = train_test_split(\n",
    "    video_paths, labels_encoded, test_size=0.2, stratify=labels_encoded, random_state=42\n",
    ")"
   ]
  },
  {
   "cell_type": "code",
   "execution_count": 8,
   "id": "920605ac",
   "metadata": {
    "execution": {
     "iopub.execute_input": "2025-06-21T13:33:29.522510Z",
     "iopub.status.busy": "2025-06-21T13:33:29.522176Z",
     "iopub.status.idle": "2025-06-21T14:12:59.003170Z",
     "shell.execute_reply": "2025-06-21T14:12:59.001955Z"
    },
    "papermill": {
     "duration": 2369.490906,
     "end_time": "2025-06-21T14:12:59.005620",
     "exception": false,
     "start_time": "2025-06-21T13:33:29.514714",
     "status": "completed"
    },
    "tags": []
   },
   "outputs": [
    {
     "name": "stdout",
     "output_type": "stream",
     "text": [
      "Processing: /kaggle/input/test-set/testing dataset/distracted behavior/Distracted (48).mp4\n",
      "Processing: /kaggle/input/test-set/testing dataset/distracted behavior/Distracted (75).mp4\n",
      "Processing: /kaggle/input/test-set/testing dataset/normal behavior/NORMAL (74).mp4\n",
      "Processing: /kaggle/input/test-set/testing dataset/distracted behavior/Distracted (80).mp4\n",
      "Processing: /kaggle/input/test-set/testing dataset/distracted behavior/Distracted (55).mp4\n",
      "Processing: /kaggle/input/test-set/testing dataset/distracted behavior/Distracted (22).mp4\n",
      "Processing: /kaggle/input/test-set/testing dataset/distracted behavior/Distracted.mp4\n",
      "Processing: /kaggle/input/test-set/testing dataset/normal behavior/NORMAL (18).mp4\n",
      "Processing: /kaggle/input/test-set/testing dataset/normal behavior/NORMAL (70).mp4\n",
      "Processing: /kaggle/input/test-set/testing dataset/distracted behavior/Distracted (53).mp4\n",
      "Processing: /kaggle/input/test-set/testing dataset/normal behavior/NORMAL (67).mp4\n",
      "Processing: /kaggle/input/test-set/testing dataset/distracted behavior/Distracted (71).mp4\n",
      "Processing: /kaggle/input/test-set/testing dataset/distracted behavior/Distracted (79).mp4\n",
      "Processing: /kaggle/input/test-set/testing dataset/distracted behavior/Distracted (67).mp4\n",
      "Processing: /kaggle/input/test-set/testing dataset/normal behavior/NORMAL (108).mp4\n",
      "Processing: /kaggle/input/test-set/testing dataset/normal behavior/NORMAL (45).mp4\n",
      "Processing: /kaggle/input/test-set/testing dataset/normal behavior/NORMAL (38).mp4\n",
      "Processing: /kaggle/input/test-set/testing dataset/normal behavior/NORMAL (95).mp4\n",
      "Processing: /kaggle/input/test-set/testing dataset/normal behavior/NORMAL (33).mp4\n",
      "Processing: /kaggle/input/test-set/testing dataset/distracted behavior/Distracted (60).mp4\n",
      "Processing: /kaggle/input/test-set/testing dataset/normal behavior/NORMAL (24).mp4\n",
      "Processing: /kaggle/input/test-set/testing dataset/normal behavior/NORMAL (91).mp4\n",
      "Processing: /kaggle/input/test-set/testing dataset/distracted behavior/Distracted (14).mp4\n",
      "Processing: /kaggle/input/test-set/testing dataset/normal behavior/NORMAL (78).mp4\n",
      "Processing: /kaggle/input/test-set/testing dataset/normal behavior/NORMAL (52).mp4\n",
      "Processing: /kaggle/input/test-set/testing dataset/normal behavior/NORMAL (27).mp4\n",
      "Processing: /kaggle/input/test-set/testing dataset/distracted behavior/Distracted (33).mp4\n",
      "Processing: /kaggle/input/test-set/testing dataset/normal behavior/NORMAL (101).mp4\n",
      "Processing: /kaggle/input/test-set/testing dataset/distracted behavior/Distracted (70).mp4\n",
      "Processing: /kaggle/input/test-set/testing dataset/normal behavior/NORMAL (107).mp4\n",
      "Processing: /kaggle/input/test-set/testing dataset/distracted behavior/Distracted (16).mp4\n",
      "Processing: /kaggle/input/test-set/testing dataset/distracted behavior/Distracted (86).mp4\n",
      "Processing: /kaggle/input/test-set/testing dataset/normal behavior/NORMAL (85).mp4\n",
      "Processing: /kaggle/input/test-set/testing dataset/distracted behavior/Distracted (61).mp4\n",
      "Processing: /kaggle/input/test-set/testing dataset/normal behavior/NORMAL (6).mp4\n",
      "Processing: /kaggle/input/test-set/testing dataset/normal behavior/NORMAL (9).mp4\n",
      "Processing: /kaggle/input/test-set/testing dataset/normal behavior/NORMAL (60).mp4\n",
      "Processing: /kaggle/input/test-set/testing dataset/normal behavior/NORMAL (92).mp4\n",
      "Processing: /kaggle/input/test-set/testing dataset/normal behavior/NORMAL (93).mp4\n",
      "Processing: /kaggle/input/test-set/testing dataset/distracted behavior/Distracted (82).mp4\n",
      "Processing: /kaggle/input/test-set/testing dataset/distracted behavior/Distracted (78).mp4\n",
      "Processing: /kaggle/input/test-set/testing dataset/normal behavior/NORMAL (114).mp4\n",
      "Processing: /kaggle/input/test-set/testing dataset/distracted behavior/Distracted (9).mp4\n",
      "Processing: /kaggle/input/test-set/testing dataset/normal behavior/NORMAL (55).mp4\n",
      "Processing: /kaggle/input/test-set/testing dataset/normal behavior/NORMAL (16).mp4\n",
      "Processing: /kaggle/input/test-set/testing dataset/distracted behavior/Distracted (8).mp4\n",
      "Processing: /kaggle/input/test-set/testing dataset/normal behavior/NORMAL (75).mp4\n",
      "Processing: /kaggle/input/test-set/testing dataset/normal behavior/NORMAL (42).mp4\n",
      "Processing: /kaggle/input/test-set/testing dataset/normal behavior/NORMAL (113).mp4\n",
      "Processing: /kaggle/input/test-set/testing dataset/normal behavior/NORMAL (29).mp4\n",
      "Processing: /kaggle/input/test-set/testing dataset/normal behavior/NORMAL (57).mp4\n",
      "Processing: /kaggle/input/test-set/testing dataset/normal behavior/NORMAL.mp4\n",
      "Processing: /kaggle/input/test-set/testing dataset/distracted behavior/Distracted (52).mp4\n",
      "Processing: /kaggle/input/test-set/testing dataset/distracted behavior/Distracted (63).mp4\n",
      "Processing: /kaggle/input/test-set/testing dataset/normal behavior/NORMAL (1).mp4\n",
      "Processing: /kaggle/input/test-set/testing dataset/normal behavior/NORMAL (48).mp4\n",
      "Processing: /kaggle/input/test-set/testing dataset/normal behavior/NORMAL (51).mp4\n",
      "Processing: /kaggle/input/test-set/testing dataset/normal behavior/NORMAL (68).mp4\n",
      "Processing: /kaggle/input/test-set/testing dataset/normal behavior/NORMAL (64).mp4\n",
      "Processing: /kaggle/input/test-set/testing dataset/distracted behavior/Distracted (4).mp4\n",
      "Processing: /kaggle/input/test-set/testing dataset/distracted behavior/Distracted (68).mp4\n",
      "Processing: /kaggle/input/test-set/testing dataset/normal behavior/NORMAL (4).mp4\n",
      "Processing: /kaggle/input/test-set/testing dataset/normal behavior/NORMAL (7).mp4\n",
      "Processing: /kaggle/input/test-set/testing dataset/normal behavior/NORMAL (100).mp4\n",
      "Processing: /kaggle/input/test-set/testing dataset/normal behavior/NORMAL (106).mp4\n",
      "Processing: /kaggle/input/test-set/testing dataset/normal behavior/NORMAL (77).mp4\n",
      "Processing: /kaggle/input/test-set/testing dataset/normal behavior/NORMAL (46).mp4\n",
      "Processing: /kaggle/input/test-set/testing dataset/distracted behavior/Distracted (88).mp4\n",
      "Processing: /kaggle/input/test-set/testing dataset/normal behavior/NORMAL (59).mp4\n",
      "Processing: /kaggle/input/test-set/testing dataset/normal behavior/NORMAL (66).mp4\n",
      "Processing: /kaggle/input/test-set/testing dataset/normal behavior/NORMAL (61).mp4\n",
      "Processing: /kaggle/input/test-set/testing dataset/normal behavior/NORMAL (19).mp4\n",
      "Processing: /kaggle/input/test-set/testing dataset/normal behavior/NORMAL (110).mp4\n",
      "Processing: /kaggle/input/test-set/testing dataset/normal behavior/NORMAL (62).mp4\n",
      "Processing: /kaggle/input/test-set/testing dataset/normal behavior/NORMAL (35).mp4\n",
      "Processing: /kaggle/input/test-set/testing dataset/distracted behavior/Distracted (58).mp4\n",
      "Processing: /kaggle/input/test-set/testing dataset/normal behavior/NORMAL (98).mp4\n",
      "Processing: /kaggle/input/test-set/testing dataset/distracted behavior/Distracted (45).mp4\n",
      "Processing: /kaggle/input/test-set/testing dataset/distracted behavior/Distracted (62).mp4\n",
      "Processing: /kaggle/input/test-set/testing dataset/normal behavior/NORMAL (2).mp4\n",
      "Processing: /kaggle/input/test-set/testing dataset/normal behavior/NORMAL (76).mp4\n",
      "Processing: /kaggle/input/test-set/testing dataset/normal behavior/NORMAL (12).mp4\n",
      "Processing: /kaggle/input/test-set/testing dataset/distracted behavior/Distracted (15).mp4\n",
      "Processing: /kaggle/input/test-set/testing dataset/distracted behavior/Distracted (3).mp4\n",
      "Processing: /kaggle/input/test-set/testing dataset/normal behavior/NORMAL (14).mp4\n",
      "Processing: /kaggle/input/test-set/testing dataset/normal behavior/NORMAL (40).mp4\n"
     ]
    },
    {
     "name": "stderr",
     "output_type": "stream",
     "text": [
      "[hevc @ 0x1c1b7a40] Invalid NAL unit size (0 > 19751).\n",
      "[hevc @ 0x1c1b7a40] Error splitting the input into NAL units.\n",
      "[hevc @ 0x219f6ac0] Invalid NAL unit size (0 > 9058).\n",
      "[hevc @ 0x219f6ac0] Error splitting the input into NAL units.\n",
      "[hevc @ 0x206f2340] Invalid NAL unit size (0 > 9529).\n",
      "[hevc @ 0x206f2340] Error splitting the input into NAL units.\n",
      "[hevc @ 0x21ae0f80] Invalid NAL unit size (0 > 65968).\n",
      "[hevc @ 0x21ae0f80] Error splitting the input into NAL units.\n"
     ]
    },
    {
     "name": "stdout",
     "output_type": "stream",
     "text": [
      "Processing: /kaggle/input/test-set/testing dataset/distracted behavior/Distracted (47).mp4\n",
      "Processing: /kaggle/input/test-set/testing dataset/normal behavior/NORMAL (17).mp4\n",
      "Processing: /kaggle/input/test-set/testing dataset/distracted behavior/Distracted (54).mp4\n",
      "Processing: /kaggle/input/test-set/testing dataset/normal behavior/NORMAL (89).mp4\n",
      "Processing: /kaggle/input/test-set/testing dataset/distracted behavior/Distracted (31).mp4\n",
      "Processing: /kaggle/input/test-set/testing dataset/normal behavior/NORMAL (96).mp4\n",
      "Processing: /kaggle/input/test-set/testing dataset/normal behavior/NORMAL (25).mp4\n",
      "Processing: /kaggle/input/test-set/testing dataset/normal behavior/NORMAL (88).mp4\n",
      "Processing: /kaggle/input/test-set/testing dataset/normal behavior/NORMAL (49).mp4\n",
      "Processing: /kaggle/input/test-set/testing dataset/distracted behavior/Distracted (72).mp4\n",
      "Processing: /kaggle/input/test-set/testing dataset/normal behavior/NORMAL (20).mp4\n",
      "Processing: /kaggle/input/test-set/testing dataset/normal behavior/NORMAL (86).mp4\n",
      "Processing: /kaggle/input/test-set/testing dataset/normal behavior/NORMAL (32).mp4\n",
      "Processing: /kaggle/input/test-set/testing dataset/distracted behavior/Distracted (44).mp4\n",
      "Processing: /kaggle/input/test-set/testing dataset/normal behavior/NORMAL (54).mp4\n",
      "Processing: /kaggle/input/test-set/testing dataset/distracted behavior/Distracted (51).mp4\n",
      "Processing: /kaggle/input/test-set/testing dataset/distracted behavior/Distracted (83).mp4\n",
      "Processing: /kaggle/input/test-set/testing dataset/normal behavior/NORMAL (43).mp4\n",
      "Processing: /kaggle/input/test-set/testing dataset/distracted behavior/Distracted (26).mp4\n",
      "Processing: /kaggle/input/test-set/testing dataset/normal behavior/NORMAL (84).mp4\n",
      "Processing: /kaggle/input/test-set/testing dataset/distracted behavior/Distracted (40).mp4\n",
      "Processing: /kaggle/input/test-set/testing dataset/normal behavior/NORMAL (69).mp4\n",
      "Processing: /kaggle/input/test-set/testing dataset/distracted behavior/Distracted (77).mp4\n",
      "Processing: /kaggle/input/test-set/testing dataset/distracted behavior/Distracted (1).mp4\n",
      "Processing: /kaggle/input/test-set/testing dataset/normal behavior/NORMAL (28).mp4\n",
      "Processing: /kaggle/input/test-set/testing dataset/normal behavior/NORMAL (109).mp4\n",
      "Processing: /kaggle/input/test-set/testing dataset/normal behavior/NORMAL (111).mp4\n",
      "Processing: /kaggle/input/test-set/testing dataset/distracted behavior/Distracted (39).mp4\n",
      "Processing: /kaggle/input/test-set/testing dataset/normal behavior/NORMAL (8).mp4\n",
      "Processing: /kaggle/input/test-set/testing dataset/normal behavior/NORMAL (104).mp4\n",
      "Processing: /kaggle/input/test-set/testing dataset/normal behavior/NORMAL (94).mp4\n",
      "Processing: /kaggle/input/test-set/testing dataset/distracted behavior/Distracted (27).mp4\n",
      "Processing: /kaggle/input/test-set/testing dataset/distracted behavior/Distracted (57).mp4\n",
      "Processing: /kaggle/input/test-set/testing dataset/normal behavior/NORMAL (37).mp4\n",
      "Processing: /kaggle/input/test-set/testing dataset/distracted behavior/Distracted (20).mp4\n",
      "Processing: /kaggle/input/test-set/testing dataset/distracted behavior/Distracted (85).mp4\n",
      "Processing: /kaggle/input/test-set/testing dataset/distracted behavior/Distracted (23).mp4\n",
      "Processing: /kaggle/input/test-set/testing dataset/distracted behavior/Distracted (25).mp4\n",
      "Processing: /kaggle/input/test-set/testing dataset/normal behavior/NORMAL (115).mp4\n",
      "Processing: /kaggle/input/test-set/testing dataset/distracted behavior/Distracted (74).mp4\n",
      "Processing: /kaggle/input/test-set/testing dataset/normal behavior/NORMAL (26).mp4\n",
      "Processing: /kaggle/input/test-set/testing dataset/distracted behavior/Distracted (17).mp4\n",
      "Processing: /kaggle/input/test-set/testing dataset/normal behavior/NORMAL (71).mp4\n",
      "Processing: /kaggle/input/test-set/testing dataset/normal behavior/NORMAL (117).mp4\n",
      "Processing: /kaggle/input/test-set/testing dataset/distracted behavior/Distracted (37).mp4\n",
      "Processing: /kaggle/input/test-set/testing dataset/distracted behavior/Distracted (46).mp4\n",
      "Processing: /kaggle/input/test-set/testing dataset/normal behavior/NORMAL (87).mp4\n",
      "Processing: /kaggle/input/test-set/testing dataset/normal behavior/NORMAL (47).mp4\n",
      "Processing: /kaggle/input/test-set/testing dataset/distracted behavior/Distracted (34).mp4\n",
      "Processing: /kaggle/input/test-set/testing dataset/normal behavior/NORMAL (80).mp4\n",
      "Processing: /kaggle/input/test-set/testing dataset/normal behavior/NORMAL (41).mp4\n",
      "Processing: /kaggle/input/test-set/testing dataset/normal behavior/NORMAL (21).mp4\n",
      "Processing: /kaggle/input/test-set/testing dataset/normal behavior/NORMAL (63).mp4\n",
      "Processing: /kaggle/input/test-set/testing dataset/normal behavior/NORMAL (118).mp4\n",
      "Processing: /kaggle/input/test-set/testing dataset/normal behavior/NORMAL (65).mp4\n",
      "Processing: /kaggle/input/test-set/testing dataset/distracted behavior/Distracted (42).mp4\n",
      "Processing: /kaggle/input/test-set/testing dataset/distracted behavior/Distracted (69).mp4\n",
      "Processing: /kaggle/input/test-set/testing dataset/distracted behavior/Distracted (29).mp4\n",
      "Processing: /kaggle/input/test-set/testing dataset/distracted behavior/Distracted (50).mp4\n",
      "Processing: /kaggle/input/test-set/testing dataset/distracted behavior/Distracted (84).mp4\n",
      "Processing: /kaggle/input/test-set/testing dataset/normal behavior/NORMAL (30).mp4\n",
      "Processing: /kaggle/input/test-set/testing dataset/normal behavior/NORMAL (116).mp4\n",
      "Processing: /kaggle/input/test-set/testing dataset/normal behavior/NORMAL (15).mp4\n",
      "Processing: /kaggle/input/test-set/testing dataset/distracted behavior/Distracted (18).mp4\n",
      "Processing: /kaggle/input/test-set/testing dataset/distracted behavior/Distracted (38).mp4\n",
      "Processing: /kaggle/input/test-set/testing dataset/normal behavior/NORMAL (99).mp4\n",
      "Processing: /kaggle/input/test-set/testing dataset/normal behavior/NORMAL (90).mp4\n",
      "Processing: /kaggle/input/test-set/testing dataset/distracted behavior/Distracted (32).mp4\n",
      "Processing: /kaggle/input/test-set/testing dataset/distracted behavior/Distracted (87).mp4\n",
      "Processing: /kaggle/input/test-set/testing dataset/distracted behavior/Distracted (56).mp4\n",
      "Processing: /kaggle/input/test-set/testing dataset/distracted behavior/Distracted (11).mp4\n",
      "Processing: /kaggle/input/test-set/testing dataset/normal behavior/NORMAL (53).mp4\n",
      "Processing: /kaggle/input/test-set/testing dataset/normal behavior/NORMAL (105).mp4\n",
      "Processing: /kaggle/input/test-set/testing dataset/distracted behavior/Distracted (19).mp4\n",
      "Processing: /kaggle/input/test-set/testing dataset/normal behavior/NORMAL (112).mp4\n",
      "Processing: /kaggle/input/test-set/testing dataset/distracted behavior/Distracted (66).mp4\n",
      "Processing: /kaggle/input/test-set/testing dataset/normal behavior/NORMAL (10).mp4\n",
      "Processing: /kaggle/input/test-set/testing dataset/distracted behavior/Distracted (10).mp4\n",
      "Processing: /kaggle/input/test-set/testing dataset/distracted behavior/Distracted (13).mp4\n",
      "Processing: /kaggle/input/test-set/testing dataset/distracted behavior/Distracted (7).mp4\n",
      "Processing: /kaggle/input/test-set/testing dataset/distracted behavior/Distracted (59).mp4\n",
      "Processing: /kaggle/input/test-set/testing dataset/distracted behavior/Distracted (41).mp4\n",
      "Processing: /kaggle/input/test-set/testing dataset/distracted behavior/Distracted (36).mp4\n",
      "Processing: /kaggle/input/test-set/testing dataset/distracted behavior/Distracted (35).mp4\n",
      "Processing: /kaggle/input/test-set/testing dataset/distracted behavior/Distracted (28).mp4\n",
      "Processing: /kaggle/input/test-set/testing dataset/normal behavior/NORMAL (39).mp4\n",
      "Processing: /kaggle/input/test-set/testing dataset/normal behavior/NORMAL (11).mp4\n",
      "Processing: /kaggle/input/test-set/testing dataset/normal behavior/NORMAL (23).mp4\n",
      "Processing: /kaggle/input/test-set/testing dataset/normal behavior/NORMAL (44).mp4\n",
      "Processing: /kaggle/input/test-set/testing dataset/normal behavior/NORMAL (79).mp4\n",
      "Processing: /kaggle/input/test-set/testing dataset/normal behavior/NORMAL (5).mp4\n",
      "Processing: /kaggle/input/test-set/testing dataset/distracted behavior/Distracted (24).mp4\n",
      "Processing: /kaggle/input/test-set/testing dataset/distracted behavior/Distracted (30).mp4\n",
      "Processing: /kaggle/input/test-set/testing dataset/normal behavior/NORMAL (119).mp4\n",
      "Processing: /kaggle/input/test-set/testing dataset/distracted behavior/Distracted (21).mp4\n",
      "Processing: /kaggle/input/test-set/testing dataset/distracted behavior/Distracted (73).mp4\n",
      "Processing: /kaggle/input/test-set/testing dataset/distracted behavior/Distracted (81).mp4\n",
      "Processing: /kaggle/input/test-set/testing dataset/distracted behavior/Distracted (43).mp4\n",
      "Processing: /kaggle/input/test-set/testing dataset/normal behavior/NORMAL (73).mp4\n",
      "Processing: /kaggle/input/test-set/testing dataset/normal behavior/NORMAL (56).mp4\n",
      "Processing: /kaggle/input/test-set/testing dataset/distracted behavior/Distracted (5).mp4\n",
      "Processing: /kaggle/input/test-set/testing dataset/normal behavior/NORMAL (50).mp4\n",
      "Processing: /kaggle/input/test-set/testing dataset/normal behavior/NORMAL (72).mp4\n",
      "Processing: /kaggle/input/test-set/testing dataset/distracted behavior/Distracted (65).mp4\n",
      "Processing: /kaggle/input/test-set/testing dataset/normal behavior/NORMAL (97).mp4\n",
      "Processing: /kaggle/input/test-set/testing dataset/distracted behavior/392left.mp4\n",
      "Processing: /kaggle/input/test-set/testing dataset/distracted behavior/Distracted (76).mp4\n",
      "Processing: /kaggle/input/test-set/testing dataset/distracted behavior/Distracted (6).mp4\n",
      "Processing: /kaggle/input/test-set/testing dataset/normal behavior/NORMAL (3).mp4\n",
      "Processing: /kaggle/input/test-set/testing dataset/normal behavior/NORMAL (36).mp4\n",
      "Processing: /kaggle/input/test-set/testing dataset/distracted behavior/Distracted (64).mp4\n",
      "Processing: /kaggle/input/test-set/testing dataset/distracted behavior/Distracted (12).mp4\n",
      "Processing: /kaggle/input/test-set/testing dataset/normal behavior/NORMAL (82).mp4\n",
      "Processing: /kaggle/input/test-set/testing dataset/distracted behavior/Distracted (2).mp4\n",
      "Processing: /kaggle/input/test-set/testing dataset/normal behavior/NORMAL (103).mp4\n",
      "Processing: /kaggle/input/test-set/testing dataset/normal behavior/NORMAL (22).mp4\n",
      "Processing: /kaggle/input/test-set/testing dataset/normal behavior/NORMAL (34).mp4\n",
      "Processing: /kaggle/input/test-set/testing dataset/normal behavior/NORMAL (102).mp4\n",
      "Processing: /kaggle/input/test-set/testing dataset/normal behavior/NORMAL (58).mp4\n",
      "Processing: /kaggle/input/test-set/testing dataset/normal behavior/NORMAL (13).mp4\n",
      "Processing: /kaggle/input/test-set/testing dataset/normal behavior/NORMAL (31).mp4\n",
      "Processing: /kaggle/input/test-set/testing dataset/normal behavior/NORMAL (83).mp4\n",
      "Processing: /kaggle/input/test-set/testing dataset/distracted behavior/Distracted (49).mp4\n",
      "Processing: /kaggle/input/test-set/testing dataset/normal behavior/NORMAL (81).mp4\n"
     ]
    }
   ],
   "source": [
    "from tensorflow.keras.utils import to_categorical\n",
    "from tensorflow.keras.preprocessing.sequence import pad_sequences\n",
    "\n",
    "max_sequence_length = 50\n",
    "\n",
    "def extract_features_batch(video_paths, labels, model, max_sequence_length):\n",
    "    data = []\n",
    "    processed_labels = []\n",
    "\n",
    "    for video_path, label in zip(video_paths, labels):\n",
    "        print(f\"Processing: {video_path}\")\n",
    "        features = extract_video_features(video_path, model)\n",
    "        if features is not None:\n",
    "            padded_features = pad_sequences(\n",
    "                [features], maxlen=max_sequence_length,\n",
    "                dtype='float32', padding='post', truncating='post'\n",
    "            )[0]\n",
    "            data.append(padded_features)\n",
    "            processed_labels.append(label)\n",
    "\n",
    "    return np.array(data), np.array(processed_labels)\n",
    "\n",
    "x_train, y_train = extract_features_batch(train_paths, train_labels, inception_model, max_sequence_length)\n",
    "x_val, y_val = extract_features_batch(val_paths, val_labels, inception_model, max_sequence_length)\n"
   ]
  },
  {
   "cell_type": "code",
   "execution_count": 9,
   "id": "8fda1a30",
   "metadata": {
    "execution": {
     "iopub.execute_input": "2025-06-21T14:12:59.044529Z",
     "iopub.status.busy": "2025-06-21T14:12:59.044129Z",
     "iopub.status.idle": "2025-06-21T14:12:59.688251Z",
     "shell.execute_reply": "2025-06-21T14:12:59.687263Z"
    },
    "papermill": {
     "duration": 0.665464,
     "end_time": "2025-06-21T14:12:59.690012",
     "exception": false,
     "start_time": "2025-06-21T14:12:59.024548",
     "status": "completed"
    },
    "tags": []
   },
   "outputs": [],
   "source": [
    "inception_model.save('cnnModel.h5')"
   ]
  },
  {
   "cell_type": "code",
   "execution_count": 10,
   "id": "421c202d",
   "metadata": {
    "execution": {
     "iopub.execute_input": "2025-06-21T14:12:59.724138Z",
     "iopub.status.busy": "2025-06-21T14:12:59.723725Z",
     "iopub.status.idle": "2025-06-21T14:12:59.729278Z",
     "shell.execute_reply": "2025-06-21T14:12:59.728346Z"
    },
    "papermill": {
     "duration": 0.024354,
     "end_time": "2025-06-21T14:12:59.730756",
     "exception": false,
     "start_time": "2025-06-21T14:12:59.706402",
     "status": "completed"
    },
    "tags": []
   },
   "outputs": [
    {
     "name": "stdout",
     "output_type": "stream",
     "text": [
      "(168, 50, 256)\n",
      "(42, 50, 256)\n"
     ]
    }
   ],
   "source": [
    "print(x_train.shape)\n",
    "print(x_val.shape)"
   ]
  },
  {
   "cell_type": "code",
   "execution_count": 11,
   "id": "f6806db2",
   "metadata": {
    "execution": {
     "iopub.execute_input": "2025-06-21T14:12:59.764795Z",
     "iopub.status.busy": "2025-06-21T14:12:59.764464Z",
     "iopub.status.idle": "2025-06-21T14:13:10.603291Z",
     "shell.execute_reply": "2025-06-21T14:13:10.602284Z"
    },
    "papermill": {
     "duration": 10.85807,
     "end_time": "2025-06-21T14:13:10.605294",
     "exception": false,
     "start_time": "2025-06-21T14:12:59.747224",
     "status": "completed"
    },
    "tags": []
   },
   "outputs": [
    {
     "name": "stdout",
     "output_type": "stream",
     "text": [
      "Epoch 1/70\n",
      "\u001b[1m11/11\u001b[0m \u001b[32m━━━━━━━━━━━━━━━━━━━━\u001b[0m\u001b[37m\u001b[0m \u001b[1m4s\u001b[0m 65ms/step - accuracy: 0.4410 - loss: 0.7053 - val_accuracy: 0.4286 - val_loss: 0.6913\n",
      "Epoch 2/70\n",
      "\u001b[1m11/11\u001b[0m \u001b[32m━━━━━━━━━━━━━━━━━━━━\u001b[0m\u001b[37m\u001b[0m \u001b[1m0s\u001b[0m 24ms/step - accuracy: 0.5442 - loss: 0.6790 - val_accuracy: 0.5000 - val_loss: 0.6683\n",
      "Epoch 3/70\n",
      "\u001b[1m11/11\u001b[0m \u001b[32m━━━━━━━━━━━━━━━━━━━━\u001b[0m\u001b[37m\u001b[0m \u001b[1m0s\u001b[0m 23ms/step - accuracy: 0.5573 - loss: 0.6829 - val_accuracy: 0.5714 - val_loss: 0.6589\n",
      "Epoch 4/70\n",
      "\u001b[1m11/11\u001b[0m \u001b[32m━━━━━━━━━━━━━━━━━━━━\u001b[0m\u001b[37m\u001b[0m \u001b[1m0s\u001b[0m 25ms/step - accuracy: 0.6031 - loss: 0.6659 - val_accuracy: 0.5952 - val_loss: 0.6481\n",
      "Epoch 5/70\n",
      "\u001b[1m11/11\u001b[0m \u001b[32m━━━━━━━━━━━━━━━━━━━━\u001b[0m\u001b[37m\u001b[0m \u001b[1m0s\u001b[0m 25ms/step - accuracy: 0.6716 - loss: 0.6485 - val_accuracy: 0.6667 - val_loss: 0.6382\n",
      "Epoch 6/70\n",
      "\u001b[1m11/11\u001b[0m \u001b[32m━━━━━━━━━━━━━━━━━━━━\u001b[0m\u001b[37m\u001b[0m \u001b[1m0s\u001b[0m 23ms/step - accuracy: 0.6440 - loss: 0.6416 - val_accuracy: 0.6667 - val_loss: 0.6229\n",
      "Epoch 7/70\n",
      "\u001b[1m11/11\u001b[0m \u001b[32m━━━━━━━━━━━━━━━━━━━━\u001b[0m\u001b[37m\u001b[0m \u001b[1m0s\u001b[0m 24ms/step - accuracy: 0.6874 - loss: 0.6079 - val_accuracy: 0.7143 - val_loss: 0.6089\n",
      "Epoch 8/70\n",
      "\u001b[1m11/11\u001b[0m \u001b[32m━━━━━━━━━━━━━━━━━━━━\u001b[0m\u001b[37m\u001b[0m \u001b[1m0s\u001b[0m 24ms/step - accuracy: 0.6851 - loss: 0.6007 - val_accuracy: 0.6905 - val_loss: 0.5972\n",
      "Epoch 9/70\n",
      "\u001b[1m11/11\u001b[0m \u001b[32m━━━━━━━━━━━━━━━━━━━━\u001b[0m\u001b[37m\u001b[0m \u001b[1m0s\u001b[0m 24ms/step - accuracy: 0.7287 - loss: 0.5947 - val_accuracy: 0.7143 - val_loss: 0.5884\n",
      "Epoch 10/70\n",
      "\u001b[1m11/11\u001b[0m \u001b[32m━━━━━━━━━━━━━━━━━━━━\u001b[0m\u001b[37m\u001b[0m \u001b[1m0s\u001b[0m 23ms/step - accuracy: 0.6939 - loss: 0.5810 - val_accuracy: 0.7143 - val_loss: 0.5791\n",
      "Epoch 11/70\n",
      "\u001b[1m11/11\u001b[0m \u001b[32m━━━━━━━━━━━━━━━━━━━━\u001b[0m\u001b[37m\u001b[0m \u001b[1m0s\u001b[0m 24ms/step - accuracy: 0.6894 - loss: 0.5587 - val_accuracy: 0.7143 - val_loss: 0.5572\n",
      "Epoch 12/70\n",
      "\u001b[1m11/11\u001b[0m \u001b[32m━━━━━━━━━━━━━━━━━━━━\u001b[0m\u001b[37m\u001b[0m \u001b[1m0s\u001b[0m 25ms/step - accuracy: 0.7604 - loss: 0.5283 - val_accuracy: 0.6905 - val_loss: 0.5387\n",
      "Epoch 13/70\n",
      "\u001b[1m11/11\u001b[0m \u001b[32m━━━━━━━━━━━━━━━━━━━━\u001b[0m\u001b[37m\u001b[0m \u001b[1m0s\u001b[0m 24ms/step - accuracy: 0.8133 - loss: 0.4853 - val_accuracy: 0.7143 - val_loss: 0.5168\n",
      "Epoch 14/70\n",
      "\u001b[1m11/11\u001b[0m \u001b[32m━━━━━━━━━━━━━━━━━━━━\u001b[0m\u001b[37m\u001b[0m \u001b[1m0s\u001b[0m 24ms/step - accuracy: 0.8170 - loss: 0.4764 - val_accuracy: 0.7381 - val_loss: 0.4880\n",
      "Epoch 15/70\n",
      "\u001b[1m11/11\u001b[0m \u001b[32m━━━━━━━━━━━━━━━━━━━━\u001b[0m\u001b[37m\u001b[0m \u001b[1m0s\u001b[0m 24ms/step - accuracy: 0.8782 - loss: 0.4133 - val_accuracy: 0.8095 - val_loss: 0.4461\n",
      "Epoch 16/70\n",
      "\u001b[1m11/11\u001b[0m \u001b[32m━━━━━━━━━━━━━━━━━━━━\u001b[0m\u001b[37m\u001b[0m \u001b[1m0s\u001b[0m 24ms/step - accuracy: 0.8705 - loss: 0.3920 - val_accuracy: 0.8571 - val_loss: 0.4283\n",
      "Epoch 17/70\n",
      "\u001b[1m11/11\u001b[0m \u001b[32m━━━━━━━━━━━━━━━━━━━━\u001b[0m\u001b[37m\u001b[0m \u001b[1m0s\u001b[0m 23ms/step - accuracy: 0.8870 - loss: 0.3756 - val_accuracy: 0.8333 - val_loss: 0.4102\n",
      "Epoch 18/70\n",
      "\u001b[1m11/11\u001b[0m \u001b[32m━━━━━━━━━━━━━━━━━━━━\u001b[0m\u001b[37m\u001b[0m \u001b[1m0s\u001b[0m 23ms/step - accuracy: 0.8963 - loss: 0.3052 - val_accuracy: 0.8333 - val_loss: 0.3951\n",
      "Epoch 19/70\n",
      "\u001b[1m11/11\u001b[0m \u001b[32m━━━━━━━━━━━━━━━━━━━━\u001b[0m\u001b[37m\u001b[0m \u001b[1m0s\u001b[0m 24ms/step - accuracy: 0.8849 - loss: 0.3359 - val_accuracy: 0.8095 - val_loss: 0.3937\n",
      "Epoch 20/70\n",
      "\u001b[1m11/11\u001b[0m \u001b[32m━━━━━━━━━━━━━━━━━━━━\u001b[0m\u001b[37m\u001b[0m \u001b[1m0s\u001b[0m 23ms/step - accuracy: 0.9008 - loss: 0.3025 - val_accuracy: 0.8810 - val_loss: 0.4064\n",
      "Epoch 21/70\n",
      "\u001b[1m11/11\u001b[0m \u001b[32m━━━━━━━━━━━━━━━━━━━━\u001b[0m\u001b[37m\u001b[0m \u001b[1m0s\u001b[0m 22ms/step - accuracy: 0.9132 - loss: 0.2747 - val_accuracy: 0.8333 - val_loss: 0.4332\n",
      "Epoch 22/70\n",
      "\u001b[1m11/11\u001b[0m \u001b[32m━━━━━━━━━━━━━━━━━━━━\u001b[0m\u001b[37m\u001b[0m \u001b[1m0s\u001b[0m 23ms/step - accuracy: 0.9120 - loss: 0.2715 - val_accuracy: 0.8571 - val_loss: 0.4123\n",
      "Epoch 23/70\n",
      "\u001b[1m11/11\u001b[0m \u001b[32m━━━━━━━━━━━━━━━━━━━━\u001b[0m\u001b[37m\u001b[0m \u001b[1m0s\u001b[0m 23ms/step - accuracy: 0.9154 - loss: 0.2394 - val_accuracy: 0.8095 - val_loss: 0.4154\n",
      "Epoch 24/70\n",
      "\u001b[1m11/11\u001b[0m \u001b[32m━━━━━━━━━━━━━━━━━━━━\u001b[0m\u001b[37m\u001b[0m \u001b[1m0s\u001b[0m 22ms/step - accuracy: 0.9390 - loss: 0.2139 - val_accuracy: 0.8571 - val_loss: 0.4365\n"
     ]
    }
   ],
   "source": [
    "from tensorflow.keras.utils import to_categorical\n",
    "from tensorflow.keras import regularizers\n",
    "from tensorflow.keras import layers, Model\n",
    "from tensorflow.keras.optimizers import Adam\n",
    "from sklearn.utils import class_weight\n",
    "from tensorflow.keras.callbacks import ModelCheckpoint\n",
    "\n",
    "\n",
    "class_weights = class_weight.compute_class_weight(\n",
    "    'balanced',\n",
    "    classes=np.unique(labels),\n",
    "    y=labels\n",
    ")\n",
    "\n",
    "class_weights = dict(enumerate(class_weights))\n",
    "\n",
    "\n",
    "input_shape = [50, 256]\n",
    "lstm_input = layers.Input(shape=input_shape, name='feature_input')\n",
    "lstm = layers.LSTM(50)(lstm_input)\n",
    "cls_out = layers.Dense(1, activation='sigmoid')(lstm)\n",
    "lstmModel = Model(inputs=lstm_input, outputs=cls_out)\n",
    "lstmModel.compile(optimizer=Adam(learning_rate=0.0001), loss='binary_crossentropy', metrics=['accuracy'])\n",
    "\n",
    "from tensorflow.keras.callbacks import EarlyStopping, ReduceLROnPlateau\n",
    "early_stopping = EarlyStopping(monitor='val_loss', patience=5, restore_best_weights=True)\n",
    "reduce_LOR    =  ReduceLROnPlateau(monitor='val_loss', factor=0.5, patience=5, min_lr=1e-7)\n",
    "\n",
    "# Train Model\n",
    "history = lstmModel.fit(\n",
    "    x_train, y_train,\n",
    "    validation_data=(x_val,y_val),\n",
    "    batch_size=16,\n",
    "    epochs=70,\n",
    "    class_weight=class_weights,\n",
    "    callbacks=[early_stopping]\n",
    ")"
   ]
  },
  {
   "cell_type": "code",
   "execution_count": 12,
   "id": "31aa719b",
   "metadata": {
    "execution": {
     "iopub.execute_input": "2025-06-21T14:13:10.654846Z",
     "iopub.status.busy": "2025-06-21T14:13:10.654553Z",
     "iopub.status.idle": "2025-06-21T14:13:10.693893Z",
     "shell.execute_reply": "2025-06-21T14:13:10.692769Z"
    },
    "papermill": {
     "duration": 0.065559,
     "end_time": "2025-06-21T14:13:10.695566",
     "exception": false,
     "start_time": "2025-06-21T14:13:10.630007",
     "status": "completed"
    },
    "tags": []
   },
   "outputs": [],
   "source": [
    "lstmModel.save('/kaggle/working/lstmModelfinal.keras')  # or .h5 in older versions"
   ]
  },
  {
   "cell_type": "code",
   "execution_count": 13,
   "id": "2b317327",
   "metadata": {
    "execution": {
     "iopub.execute_input": "2025-06-21T14:13:10.744122Z",
     "iopub.status.busy": "2025-06-21T14:13:10.743717Z",
     "iopub.status.idle": "2025-06-21T14:13:10.750731Z",
     "shell.execute_reply": "2025-06-21T14:13:10.749766Z"
    },
    "papermill": {
     "duration": 0.032973,
     "end_time": "2025-06-21T14:13:10.752317",
     "exception": false,
     "start_time": "2025-06-21T14:13:10.719344",
     "status": "completed"
    },
    "tags": []
   },
   "outputs": [],
   "source": [
    "\n",
    "def predict_video_class(video_path, feature_extractor, lstmmodel, label_encoder, max_sequence_length=50):\n",
    "    features = extract_video_features(video_path, feature_extractor)\n",
    "    if features is None:\n",
    "        print(\"Feature extraction failed.\")\n",
    "        return None\n",
    "\n",
    "    padded = pad_sequences([features], maxlen=max_sequence_length, dtype='float32', padding='post', truncating='post')\n",
    "    prediction = lstmmodel.predict(padded, verbose=0)\n",
    "\n",
    "    print(\"Prediction vector:\", prediction)\n",
    "    predicted_class = int(prediction[0][0] > 0.5)  # Threshold at 0.5\n",
    "    predicted_label = label_encoder.inverse_transform([predicted_class])[0]\n",
    "\n",
    "    print(f\"Predicted class: {predicted_label}\")\n",
    "    return predicted_label"
   ]
  },
  {
   "cell_type": "code",
   "execution_count": 14,
   "id": "c386ee9b",
   "metadata": {
    "execution": {
     "iopub.execute_input": "2025-06-21T14:13:10.800609Z",
     "iopub.status.busy": "2025-06-21T14:13:10.800320Z",
     "iopub.status.idle": "2025-06-21T14:13:11.328590Z",
     "shell.execute_reply": "2025-06-21T14:13:11.327487Z"
    },
    "papermill": {
     "duration": 0.554549,
     "end_time": "2025-06-21T14:13:11.330231",
     "exception": false,
     "start_time": "2025-06-21T14:13:10.775682",
     "status": "completed"
    },
    "tags": []
   },
   "outputs": [
    {
     "data": {
      "image/png": "[encoded data removed]",
      "text/plain": [
       "<Figure size 1200x400 with 2 Axes>"
      ]
     },
     "metadata": {},
     "output_type": "display_data"
    }
   ],
   "source": [
    "import matplotlib.pyplot as plt\n",
    "\n",
    "# Plot Accuracy\n",
    "plt.figure(figsize=(12, 4))\n",
    "plt.subplot(1, 2, 1)\n",
    "plt.plot(history.history['accuracy'], label='Train Accuracy')\n",
    "plt.plot(history.history['val_accuracy'], label='Val Accuracy')\n",
    "plt.title('Model Accuracy')\n",
    "plt.xlabel('Epoch')\n",
    "plt.ylabel('Accuracy')\n",
    "plt.legend()\n",
    "plt.grid(True)\n",
    "\n",
    "# Plot Loss\n",
    "plt.subplot(1, 2, 2)\n",
    "plt.plot(history.history['loss'], label='Train Loss')\n",
    "plt.plot(history.history['val_loss'], label='Val Loss')\n",
    "plt.title('Model Loss')\n",
    "plt.xlabel('Epoch')\n",
    "plt.ylabel('Loss')\n",
    "plt.legend()\n",
    "plt.grid(True)\n",
    "\n",
    "plt.tight_layout()\n",
    "plt.show()\n"
   ]
  },
  {
   "cell_type": "code",
   "execution_count": 15,
   "id": "802ff8b0",
   "metadata": {
    "execution": {
     "iopub.execute_input": "2025-06-21T14:13:11.382654Z",
     "iopub.status.busy": "2025-06-21T14:13:11.382327Z",
     "iopub.status.idle": "2025-06-21T14:13:22.506811Z",
     "shell.execute_reply": "2025-06-21T14:13:22.505545Z"
    },
    "papermill": {
     "duration": 11.152827,
     "end_time": "2025-06-21T14:13:22.508615",
     "exception": false,
     "start_time": "2025-06-21T14:13:11.355788",
     "status": "completed"
    },
    "tags": []
   },
   "outputs": [
    {
     "name": "stdout",
     "output_type": "stream",
     "text": [
      "Prediction vector: [[0.93980664]]\n",
      "Predicted class: 1\n"
     ]
    }
   ],
   "source": [
    "video_path = \"/kaggle/input/test-set/testing dataset/distracted behavior/Distracted (80).mp4\" \n",
    "\n",
    "predicted_video_class = predict_video_class(\n",
    "    video_path=video_path,\n",
    "    feature_extractor=inception_model,   # your InceptionV3 or other CNN\n",
    "    lstmmodel=lstmModel,\n",
    "    label_encoder=label_encoder,           \n",
    "    max_sequence_length=50\n",
    ")"
   ]
  },
  {
   "cell_type": "code",
   "execution_count": 16,
   "id": "33470aa8",
   "metadata": {
    "execution": {
     "iopub.execute_input": "2025-06-21T14:13:22.559810Z",
     "iopub.status.busy": "2025-06-21T14:13:22.559410Z",
     "iopub.status.idle": "2025-06-21T14:13:33.298254Z",
     "shell.execute_reply": "2025-06-21T14:13:33.297317Z"
    },
    "papermill": {
     "duration": 10.766096,
     "end_time": "2025-06-21T14:13:33.299699",
     "exception": false,
     "start_time": "2025-06-21T14:13:22.533603",
     "status": "completed"
    },
    "tags": []
   },
   "outputs": [
    {
     "name": "stdout",
     "output_type": "stream",
     "text": [
      "Prediction vector: [[0.26030838]]\n",
      "Predicted class: 0\n"
     ]
    }
   ],
   "source": [
    "video_path = \"/kaggle/input/test-set/testing dataset/normal behavior/NORMAL (80).mp4\" \n",
    "\n",
    "predicted_video_class = predict_video_class(\n",
    "    video_path=video_path,\n",
    "    feature_extractor=inception_model,   # your InceptionV3 or other CNN\n",
    "    lstmmodel=lstmModel,\n",
    "    label_encoder=label_encoder,           \n",
    "    max_sequence_length=50\n",
    ")"
   ]
  },
  {
   "cell_type": "code",
   "execution_count": 17,
   "id": "03fa0875",
   "metadata": {
    "execution": {
     "iopub.execute_input": "2025-06-21T14:13:33.353738Z",
     "iopub.status.busy": "2025-06-21T14:13:33.353401Z",
     "iopub.status.idle": "2025-06-21T14:13:36.196170Z",
     "shell.execute_reply": "2025-06-21T14:13:36.194952Z"
    },
    "papermill": {
     "duration": 2.873408,
     "end_time": "2025-06-21T14:13:36.198017",
     "exception": false,
     "start_time": "2025-06-21T14:13:33.324609",
     "status": "completed"
    },
    "tags": []
   },
   "outputs": [
    {
     "name": "stdout",
     "output_type": "stream",
     "text": [
      "Prediction vector: [[0.5042121]]\n",
      "Predicted class: 1\n"
     ]
    }
   ],
   "source": [
    "video_path = \"/kaggle/input/test-set/testing dataset/normal behavior/NORMAL (5).mp4\" \n",
    "\n",
    "predicted_video_class = predict_video_class(\n",
    "    video_path=video_path,\n",
    "    feature_extractor=inception_model,   # your InceptionV3 or other CNN\n",
    "    lstmmodel=lstmModel,\n",
    "    label_encoder=label_encoder,           \n",
    "    max_sequence_length=50\n",
    ")"
   ]
  },
  {
   "cell_type": "code",
   "execution_count": 18,
   "id": "eda96789",
   "metadata": {
    "execution": {
     "iopub.execute_input": "2025-06-21T14:13:36.255894Z",
     "iopub.status.busy": "2025-06-21T14:13:36.255165Z",
     "iopub.status.idle": "2025-06-21T14:13:42.599067Z",
     "shell.execute_reply": "2025-06-21T14:13:42.597851Z"
    },
    "papermill": {
     "duration": 6.377284,
     "end_time": "2025-06-21T14:13:42.600658",
     "exception": false,
     "start_time": "2025-06-21T14:13:36.223374",
     "status": "completed"
    },
    "tags": []
   },
   "outputs": [
    {
     "name": "stdout",
     "output_type": "stream",
     "text": [
      "Prediction vector: [[0.4359114]]\n",
      "Predicted class: 0\n"
     ]
    }
   ],
   "source": [
    "video_path = \"/kaggle/input/test-set/testing dataset/normal behavior/NORMAL (15).mp4\" \n",
    "\n",
    "predicted_video_class = predict_video_class(\n",
    "    video_path=video_path,\n",
    "    feature_extractor=inception_model,   # your InceptionV3 or other CNN\n",
    "    lstmmodel=lstmModel,\n",
    "    label_encoder=label_encoder,           \n",
    "    max_sequence_length=50\n",
    ")"
   ]
  },
  {
   "cell_type": "code",
   "execution_count": 19,
   "id": "a1b83c76",
   "metadata": {
    "execution": {
     "iopub.execute_input": "2025-06-21T14:13:42.652241Z",
     "iopub.status.busy": "2025-06-21T14:13:42.651202Z",
     "iopub.status.idle": "2025-06-21T14:13:50.468100Z",
     "shell.execute_reply": "2025-06-21T14:13:50.466952Z"
    },
    "papermill": {
     "duration": 7.844238,
     "end_time": "2025-06-21T14:13:50.469669",
     "exception": false,
     "start_time": "2025-06-21T14:13:42.625431",
     "status": "completed"
    },
    "tags": []
   },
   "outputs": [
    {
     "name": "stdout",
     "output_type": "stream",
     "text": [
      "Prediction vector: [[0.04222825]]\n",
      "Predicted class: 0\n"
     ]
    }
   ],
   "source": [
    "video_path = \"/kaggle/input/test-set/testing dataset/normal behavior/NORMAL (100).mp4\" \n",
    "\n",
    "predicted_video_class = predict_video_class(\n",
    "    video_path=video_path,\n",
    "    feature_extractor=inception_model,   # your InceptionV3 or other CNN\n",
    "    lstmmodel=lstmModel,\n",
    "    label_encoder=label_encoder,           \n",
    "    max_sequence_length=50\n",
    ")"
   ]
  },
  {
   "cell_type": "code",
   "execution_count": 20,
   "id": "c24c3209",
   "metadata": {
    "execution": {
     "iopub.execute_input": "2025-06-21T14:13:50.520993Z",
     "iopub.status.busy": "2025-06-21T14:13:50.520620Z",
     "iopub.status.idle": "2025-06-21T14:13:53.346855Z",
     "shell.execute_reply": "2025-06-21T14:13:53.345660Z"
    },
    "papermill": {
     "duration": 2.853724,
     "end_time": "2025-06-21T14:13:53.348463",
     "exception": false,
     "start_time": "2025-06-21T14:13:50.494739",
     "status": "completed"
    },
    "tags": []
   },
   "outputs": [
    {
     "name": "stdout",
     "output_type": "stream",
     "text": [
      "Prediction vector: [[0.5475786]]\n",
      "Predicted class: 1\n"
     ]
    }
   ],
   "source": [
    "video_path = \"/kaggle/input/test-set/testing dataset/distracted behavior/Distracted (10).mp4\" \n",
    "\n",
    "predicted_video_class = predict_video_class(\n",
    "    video_path=video_path,\n",
    "    feature_extractor=inception_model,   # your InceptionV3 or other CNN\n",
    "    lstmmodel=lstmModel,\n",
    "    label_encoder=label_encoder,           \n",
    "    max_sequence_length=50\n",
    ")"
   ]
  },
  {
   "cell_type": "code",
   "execution_count": 21,
   "id": "c3c34fd5",
   "metadata": {
    "execution": {
     "iopub.execute_input": "2025-06-21T14:13:53.400314Z",
     "iopub.status.busy": "2025-06-21T14:13:53.399982Z",
     "iopub.status.idle": "2025-06-21T14:13:58.206886Z",
     "shell.execute_reply": "2025-06-21T14:13:58.205687Z"
    },
    "papermill": {
     "duration": 4.834591,
     "end_time": "2025-06-21T14:13:58.208641",
     "exception": false,
     "start_time": "2025-06-21T14:13:53.374050",
     "status": "completed"
    },
    "tags": []
   },
   "outputs": [
    {
     "name": "stdout",
     "output_type": "stream",
     "text": [
      "Prediction vector: [[0.6892256]]\n",
      "Predicted class: 1\n"
     ]
    }
   ],
   "source": [
    "video_path = \"/kaggle/input/test-set/testing dataset/distracted behavior/Distracted.mp4\" \n",
    "\n",
    "predicted_video_class = predict_video_class(\n",
    "    video_path=video_path,\n",
    "    feature_extractor=inception_model,   # your InceptionV3 or other CNN\n",
    "    lstmmodel=lstmModel,\n",
    "    label_encoder=label_encoder,           \n",
    "    max_sequence_length=50\n",
    ")"
   ]
  },
  {
   "cell_type": "code",
   "execution_count": 22,
   "id": "ba43f9ea",
   "metadata": {
    "execution": {
     "iopub.execute_input": "2025-06-21T14:13:58.260802Z",
     "iopub.status.busy": "2025-06-21T14:13:58.259907Z",
     "iopub.status.idle": "2025-06-21T14:14:05.405245Z",
     "shell.execute_reply": "2025-06-21T14:14:05.404196Z"
    },
    "papermill": {
     "duration": 7.173241,
     "end_time": "2025-06-21T14:14:05.406830",
     "exception": false,
     "start_time": "2025-06-21T14:13:58.233589",
     "status": "completed"
    },
    "tags": []
   },
   "outputs": [
    {
     "name": "stdout",
     "output_type": "stream",
     "text": [
      "Prediction vector: [[0.8408872]]\n",
      "Predicted class: 1\n"
     ]
    }
   ],
   "source": [
    "video_path = \"/kaggle/input/test-set/testing dataset/distracted behavior/Distracted (20).mp4\" \n",
    "\n",
    "predicted_video_class = predict_video_class(\n",
    "    video_path=video_path,\n",
    "    feature_extractor=inception_model,   # your InceptionV3 or other CNN\n",
    "    lstmmodel=lstmModel,\n",
    "    label_encoder=label_encoder,           \n",
    "    max_sequence_length=50\n",
    ")"
   ]
  },
  {
   "cell_type": "code",
   "execution_count": 23,
   "id": "d8bdbcf9",
   "metadata": {
    "execution": {
     "iopub.execute_input": "2025-06-21T14:14:05.460080Z",
     "iopub.status.busy": "2025-06-21T14:14:05.459672Z",
     "iopub.status.idle": "2025-06-21T14:14:12.244428Z",
     "shell.execute_reply": "2025-06-21T14:14:12.243339Z"
    },
    "papermill": {
     "duration": 6.813361,
     "end_time": "2025-06-21T14:14:12.246362",
     "exception": false,
     "start_time": "2025-06-21T14:14:05.433001",
     "status": "completed"
    },
    "tags": []
   },
   "outputs": [
    {
     "name": "stdout",
     "output_type": "stream",
     "text": [
      "Prediction vector: [[0.83560836]]\n",
      "Predicted class: 1\n"
     ]
    }
   ],
   "source": [
    "video_path = \"/kaggle/input/test-set/testing dataset/distracted behavior/Distracted (30).mp4\" \n",
    "\n",
    "predicted_video_class = predict_video_class(\n",
    "    video_path=video_path,\n",
    "    feature_extractor=inception_model,   # your InceptionV3 or other CNN\n",
    "    lstmmodel=lstmModel,\n",
    "    label_encoder=label_encoder,           \n",
    "    max_sequence_length=50\n",
    ")"
   ]
  },
  {
   "cell_type": "code",
   "execution_count": 24,
   "id": "f2e85369",
   "metadata": {
    "execution": {
     "iopub.execute_input": "2025-06-21T14:14:12.301123Z",
     "iopub.status.busy": "2025-06-21T14:14:12.299762Z",
     "iopub.status.idle": "2025-06-21T14:14:17.083447Z",
     "shell.execute_reply": "2025-06-21T14:14:17.082397Z"
    },
    "papermill": {
     "duration": 4.813203,
     "end_time": "2025-06-21T14:14:17.085180",
     "exception": false,
     "start_time": "2025-06-21T14:14:12.271977",
     "status": "completed"
    },
    "tags": []
   },
   "outputs": [
    {
     "name": "stdout",
     "output_type": "stream",
     "text": [
      "Prediction vector: [[0.54878944]]\n",
      "Predicted class: 1\n"
     ]
    }
   ],
   "source": [
    "video_path = \"/kaggle/input/test-set/testing dataset/distracted behavior/Distracted (43).mp4\" \n",
    "\n",
    "predicted_video_class = predict_video_class(\n",
    "    video_path=video_path,\n",
    "    feature_extractor=inception_model,   # your InceptionV3 or other CNN\n",
    "    lstmmodel=lstmModel,\n",
    "    label_encoder=label_encoder,           \n",
    "    max_sequence_length=50\n",
    ")"
   ]
  },
  {
   "cell_type": "code",
   "execution_count": 25,
   "id": "4e0ff0b7",
   "metadata": {
    "execution": {
     "iopub.execute_input": "2025-06-21T14:14:17.137970Z",
     "iopub.status.busy": "2025-06-21T14:14:17.137627Z",
     "iopub.status.idle": "2025-06-21T14:14:34.133282Z",
     "shell.execute_reply": "2025-06-21T14:14:34.132172Z"
    },
    "papermill": {
     "duration": 17.023612,
     "end_time": "2025-06-21T14:14:34.134725",
     "exception": false,
     "start_time": "2025-06-21T14:14:17.111113",
     "status": "completed"
    },
    "tags": []
   },
   "outputs": [
    {
     "name": "stdout",
     "output_type": "stream",
     "text": [
      "Prediction vector: [[0.94533026]]\n",
      "Predicted class: 1\n"
     ]
    }
   ],
   "source": [
    "video_path = \"/kaggle/input/test-set/testing dataset/distracted behavior/Distracted (3).mp4\" \n",
    "\n",
    "predicted_video_class = predict_video_class(\n",
    "    video_path=video_path,\n",
    "    feature_extractor=inception_model,   # your InceptionV3 or other CNN\n",
    "    lstmmodel=lstmModel,\n",
    "    label_encoder=label_encoder,           \n",
    "    max_sequence_length=50\n",
    ")"
   ]
  },
  {
   "cell_type": "code",
   "execution_count": 26,
   "id": "c488ec2d",
   "metadata": {
    "execution": {
     "iopub.execute_input": "2025-06-21T14:14:34.187914Z",
     "iopub.status.busy": "2025-06-21T14:14:34.187556Z",
     "iopub.status.idle": "2025-06-21T14:14:34.510065Z",
     "shell.execute_reply": "2025-06-21T14:14:34.509115Z"
    },
    "papermill": {
     "duration": 0.350682,
     "end_time": "2025-06-21T14:14:34.511638",
     "exception": false,
     "start_time": "2025-06-21T14:14:34.160956",
     "status": "completed"
    },
    "tags": []
   },
   "outputs": [
    {
     "name": "stdout",
     "output_type": "stream",
     "text": [
      "\u001b[1m2/2\u001b[0m \u001b[32m━━━━━━━━━━━━━━━━━━━━\u001b[0m\u001b[37m\u001b[0m \u001b[1m0s\u001b[0m 9ms/step  \n"
     ]
    }
   ],
   "source": [
    "import numpy as np\n",
    "\n",
    "# Get model predictions\n",
    "y_pred_probs = lstmModel.predict(x_val)\n",
    "\n",
    "# For binary classification\n",
    "y_pred = (y_pred_probs > 0.5).astype(int)\n",
    "\n",
    "# For multi-class classification (if using softmax)\n",
    "# y_pred = np.argmax(y_pred_probs, axis=1)\n",
    "# y_test = np.argmax(y_test, axis=1)  # if one-hot encoded"
   ]
  },
  {
   "cell_type": "code",
   "execution_count": 27,
   "id": "b7396a9c",
   "metadata": {
    "execution": {
     "iopub.execute_input": "2025-06-21T14:14:34.564200Z",
     "iopub.status.busy": "2025-06-21T14:14:34.563294Z",
     "iopub.status.idle": "2025-06-21T14:14:34.575649Z",
     "shell.execute_reply": "2025-06-21T14:14:34.574425Z"
    },
    "papermill": {
     "duration": 0.039854,
     "end_time": "2025-06-21T14:14:34.577370",
     "exception": false,
     "start_time": "2025-06-21T14:14:34.537516",
     "status": "completed"
    },
    "tags": []
   },
   "outputs": [
    {
     "name": "stdout",
     "output_type": "stream",
     "text": [
      "F1 Score: 0.7999999999999999\n",
      "Confusion Matrix:\n",
      " [[18  6]\n",
      " [ 2 16]]\n"
     ]
    }
   ],
   "source": [
    "from sklearn.metrics import f1_score, confusion_matrix\n",
    "\n",
    "# F1 Score\n",
    "f1 = f1_score(y_val, y_pred, average='binary')  # Use 'macro', 'micro', or 'weighted' for multi-class\n",
    "print(\"F1 Score:\", f1)\n",
    "\n",
    "# Confusion Matrix\n",
    "cm = confusion_matrix(y_val, y_pred)\n",
    "print(\"Confusion Matrix:\\n\", cm)"
   ]
  },
  {
   "cell_type": "code",
   "execution_count": 28,
   "id": "593d94b5",
   "metadata": {
    "execution": {
     "iopub.execute_input": "2025-06-21T14:14:34.633417Z",
     "iopub.status.busy": "2025-06-21T14:14:34.633100Z",
     "iopub.status.idle": "2025-06-21T14:14:35.442167Z",
     "shell.execute_reply": "2025-06-21T14:14:35.441023Z"
    },
    "papermill": {
     "duration": 0.838646,
     "end_time": "2025-06-21T14:14:35.443640",
     "exception": false,
     "start_time": "2025-06-21T14:14:34.604994",
     "status": "completed"
    },
    "tags": []
   },
   "outputs": [
    {
     "data": {
      "image/png": "[encoded data removed]",
      "text/plain": [
       "<Figure size 600x500 with 2 Axes>"
      ]
     },
     "metadata": {},
     "output_type": "display_data"
    }
   ],
   "source": [
    "import matplotlib.pyplot as plt\n",
    "import seaborn as sns\n",
    "import numpy as np\n",
    "\n",
    "# Updated confusion matrix\n",
    "cm = np.array([[23, 1],\n",
    "               [3, 15]])\n",
    "\n",
    "# Class labels (you can change them if needed)\n",
    "labels = [\"Normal\", \"Distracted\"]\n",
    "\n",
    "# Plot the confusion matrix\n",
    "plt.figure(figsize=(6, 5))\n",
    "sns.heatmap(cm, annot=True, fmt='d', cmap='Greens', xticklabels=labels, yticklabels=labels)\n",
    "\n",
    "plt.xlabel('Predicted')\n",
    "plt.ylabel('Actual')\n",
    "plt.title('Confusion Matrix')\n",
    "plt.show()\n"
   ]
  },
  {
   "cell_type": "code",
   "execution_count": 29,
   "id": "eef9b759",
   "metadata": {
    "execution": {
     "iopub.execute_input": "2025-06-21T14:14:35.497680Z",
     "iopub.status.busy": "2025-06-21T14:14:35.497063Z",
     "iopub.status.idle": "2025-06-21T14:14:47.154372Z",
     "shell.execute_reply": "2025-06-21T14:14:47.153350Z"
    },
    "papermill": {
     "duration": 11.68564,
     "end_time": "2025-06-21T14:14:47.155850",
     "exception": false,
     "start_time": "2025-06-21T14:14:35.470210",
     "status": "completed"
    },
    "tags": []
   },
   "outputs": [
    {
     "name": "stdout",
     "output_type": "stream",
     "text": [
      "Epoch 1/50\n",
      "\u001b[1m4/6\u001b[0m \u001b[32m━━━━━━━━━━━━━\u001b[0m\u001b[37m━━━━━━━\u001b[0m \u001b[1m0s\u001b[0m 23ms/step - accuracy: 0.9193 - loss: 0.2596\n",
      "Epoch 1: val_accuracy improved from -inf to 0.85714, saving model to lstmModelfinal.keras\n",
      "\u001b[1m6/6\u001b[0m \u001b[32m━━━━━━━━━━━━━━━━━━━━\u001b[0m\u001b[37m\u001b[0m \u001b[1m2s\u001b[0m 50ms/step - accuracy: 0.9107 - loss: 0.2823 - val_accuracy: 0.8571 - val_loss: 0.3935\n",
      "Epoch 2/50\n",
      "\u001b[1m4/6\u001b[0m \u001b[32m━━━━━━━━━━━━━\u001b[0m\u001b[37m━━━━━━━\u001b[0m \u001b[1m0s\u001b[0m 23ms/step - accuracy: 0.9303 - loss: 0.3043\n",
      "Epoch 2: val_accuracy did not improve from 0.85714\n",
      "\u001b[1m6/6\u001b[0m \u001b[32m━━━━━━━━━━━━━━━━━━━━\u001b[0m\u001b[37m\u001b[0m \u001b[1m0s\u001b[0m 30ms/step - accuracy: 0.9213 - loss: 0.3036 - val_accuracy: 0.8333 - val_loss: 0.4121\n",
      "Epoch 3/50\n",
      "\u001b[1m4/6\u001b[0m \u001b[32m━━━━━━━━━━━━━\u001b[0m\u001b[37m━━━━━━━\u001b[0m \u001b[1m0s\u001b[0m 22ms/step - accuracy: 0.9004 - loss: 0.3097\n",
      "Epoch 3: val_accuracy did not improve from 0.85714\n",
      "\u001b[1m6/6\u001b[0m \u001b[32m━━━━━━━━━━━━━━━━━━━━\u001b[0m\u001b[37m\u001b[0m \u001b[1m0s\u001b[0m 30ms/step - accuracy: 0.8990 - loss: 0.3029 - val_accuracy: 0.8333 - val_loss: 0.4168\n",
      "Epoch 4/50\n",
      "\u001b[1m4/6\u001b[0m \u001b[32m━━━━━━━━━━━━━\u001b[0m\u001b[37m━━━━━━━\u001b[0m \u001b[1m0s\u001b[0m 23ms/step - accuracy: 0.9121 - loss: 0.2622\n",
      "Epoch 4: val_accuracy did not improve from 0.85714\n",
      "\u001b[1m6/6\u001b[0m \u001b[32m━━━━━━━━━━━━━━━━━━━━\u001b[0m\u001b[37m\u001b[0m \u001b[1m0s\u001b[0m 30ms/step - accuracy: 0.9109 - loss: 0.2702 - val_accuracy: 0.8571 - val_loss: 0.4242\n",
      "Epoch 5/50\n",
      "\u001b[1m4/6\u001b[0m \u001b[32m━━━━━━━━━━━━━\u001b[0m\u001b[37m━━━━━━━\u001b[0m \u001b[1m0s\u001b[0m 22ms/step - accuracy: 0.9271 - loss: 0.2513\n",
      "Epoch 5: val_accuracy did not improve from 0.85714\n",
      "\u001b[1m6/6\u001b[0m \u001b[32m━━━━━━━━━━━━━━━━━━━━\u001b[0m\u001b[37m\u001b[0m \u001b[1m0s\u001b[0m 30ms/step - accuracy: 0.9168 - loss: 0.2617 - val_accuracy: 0.8095 - val_loss: 0.4179\n",
      "Epoch 6/50\n",
      "\u001b[1m4/6\u001b[0m \u001b[32m━━━━━━━━━━━━━\u001b[0m\u001b[37m━━━━━━━\u001b[0m \u001b[1m0s\u001b[0m 22ms/step - accuracy: 0.9023 - loss: 0.2540\n",
      "Epoch 6: val_accuracy did not improve from 0.85714\n",
      "\u001b[1m6/6\u001b[0m \u001b[32m━━━━━━━━━━━━━━━━━━━━\u001b[0m\u001b[37m\u001b[0m \u001b[1m0s\u001b[0m 30ms/step - accuracy: 0.9079 - loss: 0.2577 - val_accuracy: 0.8333 - val_loss: 0.4095\n",
      "Epoch 7/50\n",
      "\u001b[1m4/6\u001b[0m \u001b[32m━━━━━━━━━━━━━\u001b[0m\u001b[37m━━━━━━━\u001b[0m \u001b[1m0s\u001b[0m 22ms/step - accuracy: 0.9368 - loss: 0.2749\n",
      "Epoch 7: val_accuracy did not improve from 0.85714\n",
      "\u001b[1m6/6\u001b[0m \u001b[32m━━━━━━━━━━━━━━━━━━━━\u001b[0m\u001b[37m\u001b[0m \u001b[1m0s\u001b[0m 30ms/step - accuracy: 0.9337 - loss: 0.2665 - val_accuracy: 0.8095 - val_loss: 0.4291\n",
      "Epoch 8/50\n",
      "\u001b[1m4/6\u001b[0m \u001b[32m━━━━━━━━━━━━━\u001b[0m\u001b[37m━━━━━━━\u001b[0m \u001b[1m0s\u001b[0m 22ms/step - accuracy: 0.9173 - loss: 0.2454\n",
      "Epoch 8: val_accuracy did not improve from 0.85714\n",
      "\u001b[1m6/6\u001b[0m \u001b[32m━━━━━━━━━━━━━━━━━━━━\u001b[0m\u001b[37m\u001b[0m \u001b[1m0s\u001b[0m 29ms/step - accuracy: 0.9190 - loss: 0.2456 - val_accuracy: 0.8095 - val_loss: 0.4335\n",
      "Epoch 9/50\n",
      "\u001b[1m4/6\u001b[0m \u001b[32m━━━━━━━━━━━━━\u001b[0m\u001b[37m━━━━━━━\u001b[0m \u001b[1m0s\u001b[0m 22ms/step - accuracy: 0.9336 - loss: 0.2334\n",
      "Epoch 9: val_accuracy did not improve from 0.85714\n",
      "\u001b[1m6/6\u001b[0m \u001b[32m━━━━━━━━━━━━━━━━━━━━\u001b[0m\u001b[37m\u001b[0m \u001b[1m0s\u001b[0m 29ms/step - accuracy: 0.9318 - loss: 0.2348 - val_accuracy: 0.8333 - val_loss: 0.4258\n",
      "Epoch 10/50\n",
      "\u001b[1m4/6\u001b[0m \u001b[32m━━━━━━━━━━━━━\u001b[0m\u001b[37m━━━━━━━\u001b[0m \u001b[1m0s\u001b[0m 22ms/step - accuracy: 0.9284 - loss: 0.2153\n",
      "Epoch 10: val_accuracy did not improve from 0.85714\n",
      "\u001b[1m6/6\u001b[0m \u001b[32m━━━━━━━━━━━━━━━━━━━━\u001b[0m\u001b[37m\u001b[0m \u001b[1m0s\u001b[0m 30ms/step - accuracy: 0.9305 - loss: 0.2228 - val_accuracy: 0.8095 - val_loss: 0.4269\n",
      "Epoch 11/50\n",
      "\u001b[1m6/6\u001b[0m \u001b[32m━━━━━━━━━━━━━━━━━━━━\u001b[0m\u001b[37m\u001b[0m \u001b[1m0s\u001b[0m 23ms/step - accuracy: 0.9264 - loss: 0.2313\n",
      "Epoch 11: val_accuracy did not improve from 0.85714\n",
      "\u001b[1m6/6\u001b[0m \u001b[32m━━━━━━━━━━━━━━━━━━━━\u001b[0m\u001b[37m\u001b[0m \u001b[1m0s\u001b[0m 32ms/step - accuracy: 0.9276 - loss: 0.2304 - val_accuracy: 0.8095 - val_loss: 0.4352\n",
      "Epoch 12/50\n",
      "\u001b[1m6/6\u001b[0m \u001b[32m━━━━━━━━━━━━━━━━━━━━\u001b[0m\u001b[37m\u001b[0m \u001b[1m0s\u001b[0m 22ms/step - accuracy: 0.9328 - loss: 0.2388\n",
      "Epoch 12: val_accuracy did not improve from 0.85714\n",
      "\u001b[1m6/6\u001b[0m \u001b[32m━━━━━━━━━━━━━━━━━━━━\u001b[0m\u001b[37m\u001b[0m \u001b[1m0s\u001b[0m 32ms/step - accuracy: 0.9331 - loss: 0.2359 - val_accuracy: 0.8333 - val_loss: 0.4442\n",
      "Epoch 13/50\n",
      "\u001b[1m4/6\u001b[0m \u001b[32m━━━━━━━━━━━━━\u001b[0m\u001b[37m━━━━━━━\u001b[0m \u001b[1m0s\u001b[0m 22ms/step - accuracy: 0.9049 - loss: 0.2754\n",
      "Epoch 13: val_accuracy did not improve from 0.85714\n",
      "\u001b[1m6/6\u001b[0m \u001b[32m━━━━━━━━━━━━━━━━━━━━\u001b[0m\u001b[37m\u001b[0m \u001b[1m0s\u001b[0m 30ms/step - accuracy: 0.9197 - loss: 0.2492 - val_accuracy: 0.8571 - val_loss: 0.4498\n",
      "Epoch 14/50\n",
      "\u001b[1m4/6\u001b[0m \u001b[32m━━━━━━━━━━━━━\u001b[0m\u001b[37m━━━━━━━\u001b[0m \u001b[1m0s\u001b[0m 22ms/step - accuracy: 0.9727 - loss: 0.1741\n",
      "Epoch 14: val_accuracy improved from 0.85714 to 0.88095, saving model to lstmModelfinal.keras\n",
      "\u001b[1m6/6\u001b[0m \u001b[32m━━━━━━━━━━━━━━━━━━━━\u001b[0m\u001b[37m\u001b[0m \u001b[1m0s\u001b[0m 34ms/step - accuracy: 0.9610 - loss: 0.1881 - val_accuracy: 0.8810 - val_loss: 0.4272\n",
      "Epoch 15/50\n",
      "\u001b[1m4/6\u001b[0m \u001b[32m━━━━━━━━━━━━━\u001b[0m\u001b[37m━━━━━━━\u001b[0m \u001b[1m0s\u001b[0m 22ms/step - accuracy: 0.9368 - loss: 0.2042\n",
      "Epoch 15: val_accuracy did not improve from 0.88095\n",
      "\u001b[1m6/6\u001b[0m \u001b[32m━━━━━━━━━━━━━━━━━━━━\u001b[0m\u001b[37m\u001b[0m \u001b[1m0s\u001b[0m 30ms/step - accuracy: 0.9398 - loss: 0.2012 - val_accuracy: 0.8810 - val_loss: 0.4304\n",
      "Epoch 16/50\n",
      "\u001b[1m4/6\u001b[0m \u001b[32m━━━━━━━━━━━━━\u001b[0m\u001b[37m━━━━━━━\u001b[0m \u001b[1m0s\u001b[0m 24ms/step - accuracy: 0.9505 - loss: 0.2161\n",
      "Epoch 16: val_accuracy did not improve from 0.88095\n",
      "\u001b[1m6/6\u001b[0m \u001b[32m━━━━━━━━━━━━━━━━━━━━\u001b[0m\u001b[37m\u001b[0m \u001b[1m0s\u001b[0m 31ms/step - accuracy: 0.9510 - loss: 0.2096 - val_accuracy: 0.8810 - val_loss: 0.4386\n",
      "Epoch 17/50\n",
      "\u001b[1m4/6\u001b[0m \u001b[32m━━━━━━━━━━━━━\u001b[0m\u001b[37m━━━━━━━\u001b[0m \u001b[1m0s\u001b[0m 23ms/step - accuracy: 0.9421 - loss: 0.2291\n",
      "Epoch 17: val_accuracy improved from 0.88095 to 0.90476, saving model to lstmModelfinal.keras\n",
      "\u001b[1m6/6\u001b[0m \u001b[32m━━━━━━━━━━━━━━━━━━━━\u001b[0m\u001b[37m\u001b[0m \u001b[1m0s\u001b[0m 35ms/step - accuracy: 0.9350 - loss: 0.2281 - val_accuracy: 0.9048 - val_loss: 0.3477\n",
      "Epoch 18/50\n",
      "\u001b[1m4/6\u001b[0m \u001b[32m━━━━━━━━━━━━━\u001b[0m\u001b[37m━━━━━━━\u001b[0m \u001b[1m0s\u001b[0m 23ms/step - accuracy: 0.9694 - loss: 0.1676\n",
      "Epoch 18: val_accuracy did not improve from 0.90476\n",
      "\u001b[1m6/6\u001b[0m \u001b[32m━━━━━━━━━━━━━━━━━━━━\u001b[0m\u001b[37m\u001b[0m \u001b[1m0s\u001b[0m 32ms/step - accuracy: 0.9601 - loss: 0.1875 - val_accuracy: 0.8571 - val_loss: 0.4126\n",
      "Epoch 19/50\n",
      "\u001b[1m4/6\u001b[0m \u001b[32m━━━━━━━━━━━━━\u001b[0m\u001b[37m━━━━━━━\u001b[0m \u001b[1m0s\u001b[0m 22ms/step - accuracy: 0.9297 - loss: 0.2239\n",
      "Epoch 19: val_accuracy did not improve from 0.90476\n",
      "\u001b[1m6/6\u001b[0m \u001b[32m━━━━━━━━━━━━━━━━━━━━\u001b[0m\u001b[37m\u001b[0m \u001b[1m0s\u001b[0m 30ms/step - accuracy: 0.9313 - loss: 0.2219 - val_accuracy: 0.8810 - val_loss: 0.3668\n",
      "Epoch 20/50\n",
      "\u001b[1m4/6\u001b[0m \u001b[32m━━━━━━━━━━━━━\u001b[0m\u001b[37m━━━━━━━\u001b[0m \u001b[1m0s\u001b[0m 22ms/step - accuracy: 0.9733 - loss: 0.1822\n",
      "Epoch 20: val_accuracy did not improve from 0.90476\n",
      "\u001b[1m6/6\u001b[0m \u001b[32m━━━━━━━━━━━━━━━━━━━━\u001b[0m\u001b[37m\u001b[0m \u001b[1m0s\u001b[0m 30ms/step - accuracy: 0.9666 - loss: 0.1851 - val_accuracy: 0.7857 - val_loss: 0.4685\n",
      "Epoch 21/50\n",
      "\u001b[1m4/6\u001b[0m \u001b[32m━━━━━━━━━━━━━\u001b[0m\u001b[37m━━━━━━━\u001b[0m \u001b[1m0s\u001b[0m 22ms/step - accuracy: 0.9622 - loss: 0.1982\n",
      "Epoch 21: val_accuracy did not improve from 0.90476\n",
      "\u001b[1m6/6\u001b[0m \u001b[32m━━━━━━━━━━━━━━━━━━━━\u001b[0m\u001b[37m\u001b[0m \u001b[1m0s\u001b[0m 29ms/step - accuracy: 0.9603 - loss: 0.1947 - val_accuracy: 0.8571 - val_loss: 0.4932\n",
      "Epoch 22/50\n",
      "\u001b[1m4/6\u001b[0m \u001b[32m━━━━━━━━━━━━━\u001b[0m\u001b[37m━━━━━━━\u001b[0m \u001b[1m0s\u001b[0m 22ms/step - accuracy: 0.9401 - loss: 0.2131\n",
      "Epoch 22: val_accuracy did not improve from 0.90476\n",
      "\u001b[1m6/6\u001b[0m \u001b[32m━━━━━━━━━━━━━━━━━━━━\u001b[0m\u001b[37m\u001b[0m \u001b[1m0s\u001b[0m 29ms/step - accuracy: 0.9485 - loss: 0.2027 - val_accuracy: 0.8333 - val_loss: 0.4199\n",
      "Epoch 23/50\n",
      "\u001b[1m4/6\u001b[0m \u001b[32m━━━━━━━━━━━━━\u001b[0m\u001b[37m━━━━━━━\u001b[0m \u001b[1m0s\u001b[0m 22ms/step - accuracy: 0.9499 - loss: 0.1857\n",
      "Epoch 23: val_accuracy improved from 0.90476 to 0.92857, saving model to lstmModelfinal.keras\n",
      "\u001b[1m6/6\u001b[0m \u001b[32m━━━━━━━━━━━━━━━━━━━━\u001b[0m\u001b[37m\u001b[0m \u001b[1m0s\u001b[0m 35ms/step - accuracy: 0.9567 - loss: 0.1794 - val_accuracy: 0.9286 - val_loss: 0.3546\n",
      "Epoch 24/50\n",
      "\u001b[1m4/6\u001b[0m \u001b[32m━━━━━━━━━━━━━\u001b[0m\u001b[37m━━━━━━━\u001b[0m \u001b[1m0s\u001b[0m 22ms/step - accuracy: 0.9688 - loss: 0.1810\n",
      "Epoch 24: val_accuracy did not improve from 0.92857\n",
      "\u001b[1m6/6\u001b[0m \u001b[32m━━━━━━━━━━━━━━━━━━━━\u001b[0m\u001b[37m\u001b[0m \u001b[1m0s\u001b[0m 30ms/step - accuracy: 0.9675 - loss: 0.1749 - val_accuracy: 0.8810 - val_loss: 0.3815\n",
      "Epoch 25/50\n",
      "\u001b[1m4/6\u001b[0m \u001b[32m━━━━━━━━━━━━━\u001b[0m\u001b[37m━━━━━━━\u001b[0m \u001b[1m0s\u001b[0m 23ms/step - accuracy: 0.9583 - loss: 0.1815\n",
      "Epoch 25: val_accuracy did not improve from 0.92857\n",
      "\u001b[1m6/6\u001b[0m \u001b[32m━━━━━━━━━━━━━━━━━━━━\u001b[0m\u001b[37m\u001b[0m \u001b[1m0s\u001b[0m 30ms/step - accuracy: 0.9606 - loss: 0.1746 - val_accuracy: 0.8571 - val_loss: 0.4228\n",
      "Epoch 26/50\n",
      "\u001b[1m4/6\u001b[0m \u001b[32m━━━━━━━━━━━━━\u001b[0m\u001b[37m━━━━━━━\u001b[0m \u001b[1m0s\u001b[0m 23ms/step - accuracy: 0.9668 - loss: 0.1381\n",
      "Epoch 26: val_accuracy did not improve from 0.92857\n",
      "\u001b[1m6/6\u001b[0m \u001b[32m━━━━━━━━━━━━━━━━━━━━\u001b[0m\u001b[37m\u001b[0m \u001b[1m0s\u001b[0m 30ms/step - accuracy: 0.9655 - loss: 0.1474 - val_accuracy: 0.8333 - val_loss: 0.4319\n",
      "Epoch 27/50\n",
      "\u001b[1m4/6\u001b[0m \u001b[32m━━━━━━━━━━━━━\u001b[0m\u001b[37m━━━━━━━\u001b[0m \u001b[1m0s\u001b[0m 22ms/step - accuracy: 0.9889 - loss: 0.1213\n",
      "Epoch 27: val_accuracy did not improve from 0.92857\n",
      "\u001b[1m6/6\u001b[0m \u001b[32m━━━━━━━━━━━━━━━━━━━━\u001b[0m\u001b[37m\u001b[0m \u001b[1m0s\u001b[0m 30ms/step - accuracy: 0.9790 - loss: 0.1344 - val_accuracy: 0.8810 - val_loss: 0.4087\n",
      "Epoch 28/50\n",
      "\u001b[1m4/6\u001b[0m \u001b[32m━━━━━━━━━━━━━\u001b[0m\u001b[37m━━━━━━━\u001b[0m \u001b[1m0s\u001b[0m 22ms/step - accuracy: 0.9635 - loss: 0.1601\n",
      "Epoch 28: val_accuracy did not improve from 0.92857\n",
      "\u001b[1m6/6\u001b[0m \u001b[32m━━━━━━━━━━━━━━━━━━━━\u001b[0m\u001b[37m\u001b[0m \u001b[1m0s\u001b[0m 30ms/step - accuracy: 0.9645 - loss: 0.1534 - val_accuracy: 0.8333 - val_loss: 0.4435\n",
      "Epoch 29/50\n",
      "\u001b[1m4/6\u001b[0m \u001b[32m━━━━━━━━━━━━━\u001b[0m\u001b[37m━━━━━━━\u001b[0m \u001b[1m0s\u001b[0m 22ms/step - accuracy: 0.9525 - loss: 0.1547\n",
      "Epoch 29: val_accuracy did not improve from 0.92857\n",
      "\u001b[1m6/6\u001b[0m \u001b[32m━━━━━━━━━━━━━━━━━━━━\u001b[0m\u001b[37m\u001b[0m \u001b[1m0s\u001b[0m 30ms/step - accuracy: 0.9582 - loss: 0.1468 - val_accuracy: 0.8571 - val_loss: 0.4492\n",
      "Epoch 30/50\n",
      "\u001b[1m4/6\u001b[0m \u001b[32m━━━━━━━━━━━━━\u001b[0m\u001b[37m━━━━━━━\u001b[0m \u001b[1m0s\u001b[0m 23ms/step - accuracy: 0.9772 - loss: 0.1305\n",
      "Epoch 30: val_accuracy did not improve from 0.92857\n",
      "\u001b[1m6/6\u001b[0m \u001b[32m━━━━━━━━━━━━━━━━━━━━\u001b[0m\u001b[37m\u001b[0m \u001b[1m0s\u001b[0m 31ms/step - accuracy: 0.9766 - loss: 0.1311 - val_accuracy: 0.8333 - val_loss: 0.4412\n",
      "Epoch 31/50\n",
      "\u001b[1m4/6\u001b[0m \u001b[32m━━━━━━━━━━━━━\u001b[0m\u001b[37m━━━━━━━\u001b[0m \u001b[1m0s\u001b[0m 23ms/step - accuracy: 0.9772 - loss: 0.1407\n",
      "Epoch 31: val_accuracy did not improve from 0.92857\n",
      "\u001b[1m6/6\u001b[0m \u001b[32m━━━━━━━━━━━━━━━━━━━━\u001b[0m\u001b[37m\u001b[0m \u001b[1m0s\u001b[0m 30ms/step - accuracy: 0.9766 - loss: 0.1338 - val_accuracy: 0.8333 - val_loss: 0.4783\n",
      "Epoch 32/50\n",
      "\u001b[1m4/6\u001b[0m \u001b[32m━━━━━━━━━━━━━\u001b[0m\u001b[37m━━━━━━━\u001b[0m \u001b[1m0s\u001b[0m 23ms/step - accuracy: 0.9707 - loss: 0.1395\n",
      "Epoch 32: val_accuracy did not improve from 0.92857\n",
      "\u001b[1m6/6\u001b[0m \u001b[32m━━━━━━━━━━━━━━━━━━━━\u001b[0m\u001b[37m\u001b[0m \u001b[1m0s\u001b[0m 29ms/step - accuracy: 0.9729 - loss: 0.1307 - val_accuracy: 0.8571 - val_loss: 0.4722\n",
      "Epoch 33/50\n",
      "\u001b[1m4/6\u001b[0m \u001b[32m━━━━━━━━━━━━━\u001b[0m\u001b[37m━━━━━━━\u001b[0m \u001b[1m0s\u001b[0m 23ms/step - accuracy: 0.9655 - loss: 0.1285\n",
      "Epoch 33: val_accuracy did not improve from 0.92857\n",
      "\u001b[1m6/6\u001b[0m \u001b[32m━━━━━━━━━━━━━━━━━━━━\u001b[0m\u001b[37m\u001b[0m \u001b[1m0s\u001b[0m 30ms/step - accuracy: 0.9699 - loss: 0.1223 - val_accuracy: 0.8333 - val_loss: 0.4899\n",
      "Epoch 34/50\n",
      "\u001b[1m4/6\u001b[0m \u001b[32m━━━━━━━━━━━━━\u001b[0m\u001b[37m━━━━━━━\u001b[0m \u001b[1m0s\u001b[0m 22ms/step - accuracy: 0.9941 - loss: 0.0888\n",
      "Epoch 34: val_accuracy did not improve from 0.92857\n",
      "\u001b[1m6/6\u001b[0m \u001b[32m━━━━━━━━━━━━━━━━━━━━\u001b[0m\u001b[37m\u001b[0m \u001b[1m0s\u001b[0m 30ms/step - accuracy: 0.9872 - loss: 0.0966 - val_accuracy: 0.8333 - val_loss: 0.4809\n",
      "Epoch 35/50\n",
      "\u001b[1m4/6\u001b[0m \u001b[32m━━━━━━━━━━━━━\u001b[0m\u001b[37m━━━━━━━\u001b[0m \u001b[1m0s\u001b[0m 23ms/step - accuracy: 0.9831 - loss: 0.0948\n",
      "Epoch 35: val_accuracy did not improve from 0.92857\n",
      "\u001b[1m6/6\u001b[0m \u001b[32m━━━━━━━━━━━━━━━━━━━━\u001b[0m\u001b[37m\u001b[0m \u001b[1m0s\u001b[0m 30ms/step - accuracy: 0.9800 - loss: 0.0996 - val_accuracy: 0.8333 - val_loss: 0.4769\n",
      "Epoch 36/50\n",
      "\u001b[1m4/6\u001b[0m \u001b[32m━━━━━━━━━━━━━\u001b[0m\u001b[37m━━━━━━━\u001b[0m \u001b[1m0s\u001b[0m 22ms/step - accuracy: 0.9870 - loss: 0.0837\n",
      "Epoch 36: val_accuracy did not improve from 0.92857\n",
      "\u001b[1m6/6\u001b[0m \u001b[32m━━━━━━━━━━━━━━━━━━━━\u001b[0m\u001b[37m\u001b[0m \u001b[1m0s\u001b[0m 30ms/step - accuracy: 0.9848 - loss: 0.0913 - val_accuracy: 0.8571 - val_loss: 0.4456\n",
      "Epoch 37/50\n",
      "\u001b[1m4/6\u001b[0m \u001b[32m━━━━━━━━━━━━━\u001b[0m\u001b[37m━━━━━━━\u001b[0m \u001b[1m0s\u001b[0m 23ms/step - accuracy: 0.9961 - loss: 0.0709\n",
      "Epoch 37: val_accuracy did not improve from 0.92857\n",
      "\u001b[1m6/6\u001b[0m \u001b[32m━━━━━━━━━━━━━━━━━━━━\u001b[0m\u001b[37m\u001b[0m \u001b[1m0s\u001b[0m 30ms/step - accuracy: 0.9900 - loss: 0.0835 - val_accuracy: 0.8810 - val_loss: 0.4133\n",
      "Epoch 38/50\n",
      "\u001b[1m4/6\u001b[0m \u001b[32m━━━━━━━━━━━━━\u001b[0m\u001b[37m━━━━━━━\u001b[0m \u001b[1m0s\u001b[0m 23ms/step - accuracy: 0.9753 - loss: 0.1110\n",
      "Epoch 38: val_accuracy did not improve from 0.92857\n",
      "\u001b[1m6/6\u001b[0m \u001b[32m━━━━━━━━━━━━━━━━━━━━\u001b[0m\u001b[37m\u001b[0m \u001b[1m0s\u001b[0m 30ms/step - accuracy: 0.9755 - loss: 0.1075 - val_accuracy: 0.8333 - val_loss: 0.6230\n",
      "Epoch 39/50\n",
      "\u001b[1m4/6\u001b[0m \u001b[32m━━━━━━━━━━━━━\u001b[0m\u001b[37m━━━━━━━\u001b[0m \u001b[1m0s\u001b[0m 22ms/step - accuracy: 0.9473 - loss: 0.1806\n",
      "Epoch 39: val_accuracy did not improve from 0.92857\n",
      "\u001b[1m6/6\u001b[0m \u001b[32m━━━━━━━━━━━━━━━━━━━━\u001b[0m\u001b[37m\u001b[0m \u001b[1m0s\u001b[0m 31ms/step - accuracy: 0.9517 - loss: 0.1740 - val_accuracy: 0.8810 - val_loss: 0.4440\n",
      "Epoch 40/50\n",
      "\u001b[1m4/6\u001b[0m \u001b[32m━━━━━━━━━━━━━\u001b[0m\u001b[37m━━━━━━━\u001b[0m \u001b[1m0s\u001b[0m 22ms/step - accuracy: 0.9831 - loss: 0.0867\n",
      "Epoch 40: val_accuracy did not improve from 0.92857\n",
      "\u001b[1m6/6\u001b[0m \u001b[32m━━━━━━━━━━━━━━━━━━━━\u001b[0m\u001b[37m\u001b[0m \u001b[1m0s\u001b[0m 29ms/step - accuracy: 0.9748 - loss: 0.1002 - val_accuracy: 0.8571 - val_loss: 0.5015\n",
      "Epoch 41/50\n",
      "\u001b[1m4/6\u001b[0m \u001b[32m━━━━━━━━━━━━━\u001b[0m\u001b[37m━━━━━━━\u001b[0m \u001b[1m0s\u001b[0m 23ms/step - accuracy: 0.9876 - loss: 0.0955\n",
      "Epoch 41: val_accuracy did not improve from 0.92857\n",
      "\u001b[1m6/6\u001b[0m \u001b[32m━━━━━━━━━━━━━━━━━━━━\u001b[0m\u001b[37m\u001b[0m \u001b[1m0s\u001b[0m 30ms/step - accuracy: 0.9826 - loss: 0.1007 - val_accuracy: 0.8810 - val_loss: 0.4227\n",
      "Epoch 42/50\n",
      "\u001b[1m4/6\u001b[0m \u001b[32m━━━━━━━━━━━━━\u001b[0m\u001b[37m━━━━━━━\u001b[0m \u001b[1m0s\u001b[0m 22ms/step - accuracy: 0.9870 - loss: 0.0881\n",
      "Epoch 42: val_accuracy did not improve from 0.92857\n",
      "\u001b[1m6/6\u001b[0m \u001b[32m━━━━━━━━━━━━━━━━━━━━\u001b[0m\u001b[37m\u001b[0m \u001b[1m0s\u001b[0m 30ms/step - accuracy: 0.9857 - loss: 0.0903 - val_accuracy: 0.9048 - val_loss: 0.4168\n",
      "Epoch 43/50\n",
      "\u001b[1m4/6\u001b[0m \u001b[32m━━━━━━━━━━━━━\u001b[0m\u001b[37m━━━━━━━\u001b[0m \u001b[1m0s\u001b[0m 23ms/step - accuracy: 0.9837 - loss: 0.0764\n",
      "Epoch 43: val_accuracy did not improve from 0.92857\n",
      "\u001b[1m6/6\u001b[0m \u001b[32m━━━━━━━━━━━━━━━━━━━━\u001b[0m\u001b[37m\u001b[0m \u001b[1m0s\u001b[0m 29ms/step - accuracy: 0.9803 - loss: 0.0851 - val_accuracy: 0.8571 - val_loss: 0.4735\n",
      "Epoch 44/50\n",
      "\u001b[1m4/6\u001b[0m \u001b[32m━━━━━━━━━━━━━\u001b[0m\u001b[37m━━━━━━━\u001b[0m \u001b[1m0s\u001b[0m 23ms/step - accuracy: 0.9792 - loss: 0.1017\n",
      "Epoch 44: val_accuracy did not improve from 0.92857\n",
      "\u001b[1m6/6\u001b[0m \u001b[32m━━━━━━━━━━━━━━━━━━━━\u001b[0m\u001b[37m\u001b[0m \u001b[1m0s\u001b[0m 30ms/step - accuracy: 0.9829 - loss: 0.0954 - val_accuracy: 0.9048 - val_loss: 0.4014\n",
      "Epoch 45/50\n",
      "\u001b[1m4/6\u001b[0m \u001b[32m━━━━━━━━━━━━━\u001b[0m\u001b[37m━━━━━━━\u001b[0m \u001b[1m0s\u001b[0m 22ms/step - accuracy: 0.9753 - loss: 0.1196\n",
      "Epoch 45: val_accuracy did not improve from 0.92857\n",
      "\u001b[1m6/6\u001b[0m \u001b[32m━━━━━━━━━━━━━━━━━━━━\u001b[0m\u001b[37m\u001b[0m \u001b[1m0s\u001b[0m 31ms/step - accuracy: 0.9781 - loss: 0.1129 - val_accuracy: 0.9048 - val_loss: 0.4037\n",
      "Epoch 46/50\n",
      "\u001b[1m4/6\u001b[0m \u001b[32m━━━━━━━━━━━━━\u001b[0m\u001b[37m━━━━━━━\u001b[0m \u001b[1m0s\u001b[0m 24ms/step - accuracy: 0.9870 - loss: 0.0990\n",
      "Epoch 46: val_accuracy did not improve from 0.92857\n",
      "\u001b[1m6/6\u001b[0m \u001b[32m━━━━━━━━━━━━━━━━━━━━\u001b[0m\u001b[37m\u001b[0m \u001b[1m0s\u001b[0m 31ms/step - accuracy: 0.9857 - loss: 0.0960 - val_accuracy: 0.8571 - val_loss: 0.5328\n",
      "Epoch 47/50\n",
      "\u001b[1m6/6\u001b[0m \u001b[32m━━━━━━━━━━━━━━━━━━━━\u001b[0m\u001b[37m\u001b[0m \u001b[1m0s\u001b[0m 23ms/step - accuracy: 0.9862 - loss: 0.0788\n",
      "Epoch 47: val_accuracy did not improve from 0.92857\n",
      "\u001b[1m6/6\u001b[0m \u001b[32m━━━━━━━━━━━━━━━━━━━━\u001b[0m\u001b[37m\u001b[0m \u001b[1m0s\u001b[0m 31ms/step - accuracy: 0.9848 - loss: 0.0818 - val_accuracy: 0.9048 - val_loss: 0.3510\n",
      "Epoch 48/50\n",
      "\u001b[1m4/6\u001b[0m \u001b[32m━━━━━━━━━━━━━\u001b[0m\u001b[37m━━━━━━━\u001b[0m \u001b[1m0s\u001b[0m 23ms/step - accuracy: 0.9935 - loss: 0.0634\n",
      "Epoch 48: val_accuracy did not improve from 0.92857\n",
      "\u001b[1m6/6\u001b[0m \u001b[32m━━━━━━━━━━━━━━━━━━━━\u001b[0m\u001b[37m\u001b[0m \u001b[1m0s\u001b[0m 30ms/step - accuracy: 0.9868 - loss: 0.0783 - val_accuracy: 0.8810 - val_loss: 0.4482\n",
      "Epoch 49/50\n",
      "\u001b[1m4/6\u001b[0m \u001b[32m━━━━━━━━━━━━━\u001b[0m\u001b[37m━━━━━━━\u001b[0m \u001b[1m0s\u001b[0m 23ms/step - accuracy: 0.9876 - loss: 0.0817\n",
      "Epoch 49: val_accuracy did not improve from 0.92857\n",
      "\u001b[1m6/6\u001b[0m \u001b[32m━━━━━━━━━━━━━━━━━━━━\u001b[0m\u001b[37m\u001b[0m \u001b[1m0s\u001b[0m 30ms/step - accuracy: 0.9731 - loss: 0.1086 - val_accuracy: 0.8095 - val_loss: 0.6464\n",
      "Epoch 50/50\n",
      "\u001b[1m4/6\u001b[0m \u001b[32m━━━━━━━━━━━━━\u001b[0m\u001b[37m━━━━━━━\u001b[0m \u001b[1m0s\u001b[0m 23ms/step - accuracy: 0.9271 - loss: 0.1376\n",
      "Epoch 50: val_accuracy did not improve from 0.92857\n",
      "\u001b[1m6/6\u001b[0m \u001b[32m━━━━━━━━━━━━━━━━━━━━\u001b[0m\u001b[37m\u001b[0m \u001b[1m0s\u001b[0m 30ms/step - accuracy: 0.9350 - loss: 0.1333 - val_accuracy: 0.8810 - val_loss: 0.4698\n"
     ]
    },
    {
     "data": {
      "text/plain": [
       "<keras.src.callbacks.history.History at 0x7ee86bcc0310>"
      ]
     },
     "execution_count": 29,
     "metadata": {},
     "output_type": "execute_result"
    }
   ],
   "source": [
    "from tensorflow.keras.callbacks import ModelCheckpoint\n",
    "\n",
    "checkpoint = ModelCheckpoint(\n",
    "    'lstmModelfinal.keras',\n",
    "    monitor='val_accuracy',  # or 'val_loss'\n",
    "    save_best_only=True,\n",
    "    mode='max',  # 'max' for accuracy, 'min' for loss\n",
    "    verbose=1\n",
    ")\n",
    "\n",
    "lstmModel.fit(\n",
    "    x_train, y_train,\n",
    "    validation_data=[x_val, y_val],\n",
    "    epochs=50,\n",
    "    callbacks=[checkpoint]\n",
    ")"
   ]
  },
  {
   "cell_type": "code",
   "execution_count": 30,
   "id": "b57c0233",
   "metadata": {
    "execution": {
     "iopub.execute_input": "2025-06-21T14:14:47.237194Z",
     "iopub.status.busy": "2025-06-21T14:14:47.236858Z",
     "iopub.status.idle": "2025-06-21T14:14:47.263295Z",
     "shell.execute_reply": "2025-06-21T14:14:47.262468Z"
    },
    "papermill": {
     "duration": 0.068858,
     "end_time": "2025-06-21T14:14:47.265080",
     "exception": false,
     "start_time": "2025-06-21T14:14:47.196222",
     "status": "completed"
    },
    "tags": []
   },
   "outputs": [],
   "source": [
    "lstmModel.save('/kaggle/working/best_model.keras')"
   ]
  }
 ],
 "metadata": {
  "kaggle": {
   "accelerator": "none",
   "dataSources": [
    {
     "datasetId": 7132727,
     "sourceId": 11389847,
     "sourceType": "datasetVersion"
    }
   ],
   "dockerImageVersionId": 31011,
   "isGpuEnabled": false,
   "isInternetEnabled": true,
   "language": "python",
   "sourceType": "notebook"
  },
  "kernelspec": {
   "display_name": "Python 3",
   "language": "python",
   "name": "python3"
  },
  "language_info": {
   "codemirror_mode": {
    "name": "ipython",
    "version": 3
   },
   "file_extension": ".py",
   "mimetype": "text/x-python",
   "name": "python",
   "nbconvert_exporter": "python",
   "pygments_lexer": "ipython3",
   "version": "3.11.11"
  },
  "papermill": {
   "default_parameters": {},
   "duration": 2529.881571,
   "end_time": "2025-06-21T14:14:50.389305",
   "environment_variables": {},
   "exception": null,
   "input_path": "__notebook__.ipynb",
   "output_path": "__notebook__.ipynb",
   "parameters": {},
   "start_time": "2025-06-21T13:32:40.507734",
   "version": "2.6.0"
  }
 },
 "nbformat": 4,
 "nbformat_minor": 5
}
